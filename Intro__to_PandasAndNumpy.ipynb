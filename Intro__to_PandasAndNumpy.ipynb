{
  "nbformat": 4,
  "nbformat_minor": 0,
  "metadata": {
    "colab": {
      "name": "Intro _to_PandasAndNumpy.ipynb",
      "provenance": [],
      "collapsed_sections": [],
      "authorship_tag": "ABX9TyOgFm1wOxhKtsH9ghdXxo/V",
      "include_colab_link": true
    },
    "kernelspec": {
      "name": "python3",
      "display_name": "Python 3"
    },
    "language_info": {
      "name": "python"
    }
  },
  "cells": [
    {
      "cell_type": "markdown",
      "metadata": {
        "id": "view-in-github",
        "colab_type": "text"
      },
      "source": [
        "<a href=\"https://colab.research.google.com/github/Rizwan-Ahmed-Surhio/Accountants/blob/main/Intro__to_PandasAndNumpy.ipynb\" target=\"_parent\"><img src=\"https://colab.research.google.com/assets/colab-badge.svg\" alt=\"Open In Colab\"/></a>"
      ]
    },
    {
      "cell_type": "code",
      "metadata": {
        "id": "6p7AYPwgpAeC"
      },
      "source": [
        "import pandas as pd\n",
        "import numpy as np"
      ],
      "execution_count": null,
      "outputs": []
    },
    {
      "cell_type": "markdown",
      "metadata": {
        "id": "a2cmidk3F-79"
      },
      "source": [
        "### Creating a Numpy(np) Array"
      ]
    },
    {
      "cell_type": "code",
      "metadata": {
        "id": "0e6OxpypFoe9"
      },
      "source": [
        "product_name_array = np.array([\"Cereals\",\"Cloths\",\"Baby Food\",\"Household\"])"
      ],
      "execution_count": null,
      "outputs": []
    },
    {
      "cell_type": "markdown",
      "metadata": {
        "id": "Ybm-6sCIIW8t"
      },
      "source": [
        "### Accessing Elements in an Array"
      ]
    },
    {
      "cell_type": "code",
      "metadata": {
        "colab": {
          "base_uri": "https://localhost:8080/",
          "height": 36
        },
        "id": "0WfiIWfaHst0",
        "outputId": "26753c17-14b9-4e5f-ca15-d6b16cb29ffb"
      },
      "source": [
        "product_name_array[0]"
      ],
      "execution_count": null,
      "outputs": [
        {
          "output_type": "execute_result",
          "data": {
            "application/vnd.google.colaboratory.intrinsic+json": {
              "type": "string"
            },
            "text/plain": [
              "'Cereals'"
            ]
          },
          "metadata": {
            "tags": []
          },
          "execution_count": 15
        }
      ]
    },
    {
      "cell_type": "code",
      "metadata": {
        "colab": {
          "base_uri": "https://localhost:8080/",
          "height": 36
        },
        "id": "zlBsIcDTHuqL",
        "outputId": "537d01c9-3047-4668-b99a-308b2fb19f42"
      },
      "source": [
        "product_name_array[1]"
      ],
      "execution_count": null,
      "outputs": [
        {
          "output_type": "execute_result",
          "data": {
            "application/vnd.google.colaboratory.intrinsic+json": {
              "type": "string"
            },
            "text/plain": [
              "'Cloths'"
            ]
          },
          "metadata": {
            "tags": []
          },
          "execution_count": 16
        }
      ]
    },
    {
      "cell_type": "markdown",
      "metadata": {
        "id": "H_sXY6jpIT4_"
      },
      "source": [
        "### Accessing Range"
      ]
    },
    {
      "cell_type": "code",
      "metadata": {
        "colab": {
          "base_uri": "https://localhost:8080/"
        },
        "id": "O26r0JPPHwp8",
        "outputId": "f8deb380-eb00-4dd0-ee07-aac4463b4a60"
      },
      "source": [
        "product_name_array[0:2]\n"
      ],
      "execution_count": null,
      "outputs": [
        {
          "output_type": "execute_result",
          "data": {
            "text/plain": [
              "array(['Cereals', 'Cloths'], dtype='<U9')"
            ]
          },
          "metadata": {
            "tags": []
          },
          "execution_count": 17
        }
      ]
    },
    {
      "cell_type": "markdown",
      "metadata": {
        "id": "oGmBKS-QIhMA"
      },
      "source": [
        "### Using Array in a Loop"
      ]
    },
    {
      "cell_type": "code",
      "metadata": {
        "colab": {
          "base_uri": "https://localhost:8080/"
        },
        "id": "355khhY9H7n6",
        "outputId": "22cc0e71-9c39-41dc-ff3d-3766c0518276"
      },
      "source": [
        "for i in product_name_array:\n",
        "  print(\"Now Printing : \" + i)"
      ],
      "execution_count": null,
      "outputs": [
        {
          "output_type": "stream",
          "text": [
            "Now Printing : Cereals\n",
            "Now Printing : Cloths\n",
            "Now Printing : Baby Food\n",
            "Now Printing : Household\n"
          ],
          "name": "stdout"
        }
      ]
    },
    {
      "cell_type": "markdown",
      "metadata": {
        "id": "LQQz5FjRsZSV"
      },
      "source": [
        "Functions for Array and List"
      ]
    },
    {
      "cell_type": "code",
      "metadata": {
        "id": "6a4U0BgWIPGs"
      },
      "source": [
        "mix_list = [\"Cereals\",456,365.60,False]"
      ],
      "execution_count": null,
      "outputs": []
    },
    {
      "cell_type": "code",
      "metadata": {
        "colab": {
          "base_uri": "https://localhost:8080/"
        },
        "id": "fQFAi71UvBaE",
        "outputId": "3cdfac3b-6621-4591-d558-c043f3dd6a95"
      },
      "source": [
        "mix_list"
      ],
      "execution_count": null,
      "outputs": [
        {
          "output_type": "execute_result",
          "data": {
            "text/plain": [
              "['Cereals', 456, 365.6, False]"
            ]
          },
          "metadata": {
            "tags": []
          },
          "execution_count": 14
        }
      ]
    },
    {
      "cell_type": "code",
      "metadata": {
        "id": "PK5gzq1jsFMT"
      },
      "source": [
        "array_of_numbers = np.array([25,456,365,747])"
      ],
      "execution_count": null,
      "outputs": []
    },
    {
      "cell_type": "code",
      "metadata": {
        "colab": {
          "base_uri": "https://localhost:8080/"
        },
        "id": "F1nTuGxhvEYA",
        "outputId": "0af3ae45-1fd0-46be-8a39-e8f68ce58f6b"
      },
      "source": [
        "array_of_numbers"
      ],
      "execution_count": null,
      "outputs": [
        {
          "output_type": "execute_result",
          "data": {
            "text/plain": [
              "array([ 25, 456, 365, 747])"
            ]
          },
          "metadata": {
            "tags": []
          },
          "execution_count": 16
        }
      ]
    },
    {
      "cell_type": "code",
      "metadata": {
        "colab": {
          "base_uri": "https://localhost:8080/",
          "height": 175
        },
        "id": "q_d1vU04qCD9",
        "outputId": "4cb9d3de-7442-4807-dcde-b58464b52ac1"
      },
      "source": [
        "mix_list.mean()"
      ],
      "execution_count": null,
      "outputs": [
        {
          "output_type": "error",
          "ename": "AttributeError",
          "evalue": "ignored",
          "traceback": [
            "\u001b[0;31m---------------------------------------------------------------------------\u001b[0m",
            "\u001b[0;31mAttributeError\u001b[0m                            Traceback (most recent call last)",
            "\u001b[0;32m<ipython-input-17-c5b7b326d761>\u001b[0m in \u001b[0;36m<module>\u001b[0;34m()\u001b[0m\n\u001b[0;32m----> 1\u001b[0;31m \u001b[0mmix_list\u001b[0m\u001b[0;34m.\u001b[0m\u001b[0mmean\u001b[0m\u001b[0;34m(\u001b[0m\u001b[0;34m)\u001b[0m\u001b[0;34m\u001b[0m\u001b[0;34m\u001b[0m\u001b[0m\n\u001b[0m",
            "\u001b[0;31mAttributeError\u001b[0m: 'list' object has no attribute 'mean'"
          ]
        }
      ]
    },
    {
      "cell_type": "code",
      "metadata": {
        "colab": {
          "base_uri": "https://localhost:8080/"
        },
        "id": "C9M6KhKcsDJF",
        "outputId": "fe2f0e2b-4b9f-464e-fcae-3f24ee313913"
      },
      "source": [
        "array_of_numbers.mean()"
      ],
      "execution_count": null,
      "outputs": [
        {
          "output_type": "execute_result",
          "data": {
            "text/plain": [
              "398.25"
            ]
          },
          "metadata": {
            "tags": []
          },
          "execution_count": 18
        }
      ]
    },
    {
      "cell_type": "markdown",
      "metadata": {
        "id": "8MI3Pt-Hz0oB"
      },
      "source": [
        "### Vectorise opeartions on Array"
      ]
    },
    {
      "cell_type": "code",
      "metadata": {
        "id": "eXbTBWI9z3ld"
      },
      "source": [
        "array_of_numbers_1 = np.array([1,1,1,1])"
      ],
      "execution_count": null,
      "outputs": []
    },
    {
      "cell_type": "code",
      "metadata": {
        "colab": {
          "base_uri": "https://localhost:8080/"
        },
        "id": "_f88VgC2z5xN",
        "outputId": "ee5acb4b-f04c-40fb-bc19-58f501730134"
      },
      "source": [
        "array_of_numbers + array_of_numbers_1"
      ],
      "execution_count": null,
      "outputs": [
        {
          "output_type": "execute_result",
          "data": {
            "text/plain": [
              "array([ 26, 457, 366, 748])"
            ]
          },
          "metadata": {
            "tags": []
          },
          "execution_count": 22
        }
      ]
    },
    {
      "cell_type": "markdown",
      "metadata": {
        "id": "IVlNQPUr3OyZ"
      },
      "source": [
        "## Creating an Array"
      ]
    },
    {
      "cell_type": "code",
      "metadata": {
        "id": "AOxhFnkk3suM"
      },
      "source": [
        "product_name_array = np.array([\"Cereals\",\"Cloths\",\"Baby Food\",\"Household\"])"
      ],
      "execution_count": null,
      "outputs": []
    },
    {
      "cell_type": "code",
      "metadata": {
        "id": "CVSUmoHE4QSO",
        "colab": {
          "base_uri": "https://localhost:8080/"
        },
        "outputId": "fd180093-e8c4-4dd0-a080-da1edbd3646f"
      },
      "source": [
        "product_name_array"
      ],
      "execution_count": null,
      "outputs": [
        {
          "output_type": "execute_result",
          "data": {
            "text/plain": [
              "array(['Cereals', 'Cloths', 'Baby Food', 'Household'], dtype='<U9')"
            ]
          },
          "metadata": {
            "tags": []
          },
          "execution_count": 27
        }
      ]
    }
  ]
}