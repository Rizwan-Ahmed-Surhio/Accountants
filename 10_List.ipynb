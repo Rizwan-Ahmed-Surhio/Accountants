{
  "nbformat": 4,
  "nbformat_minor": 0,
  "metadata": {
    "colab": {
      "name": "10_List.ipynb",
      "provenance": [],
      "collapsed_sections": [],
      "authorship_tag": "ABX9TyPYLYay9oImUGddtj07I8jI",
      "include_colab_link": true
    },
    "kernelspec": {
      "name": "python3",
      "display_name": "Python 3"
    }
  },
  "cells": [
    {
      "cell_type": "markdown",
      "metadata": {
        "id": "view-in-github",
        "colab_type": "text"
      },
      "source": [
        "<a href=\"https://colab.research.google.com/github/Rizwan-Ahmed-Surhio/Accountants/blob/main/10_List.ipynb\" target=\"_parent\"><img src=\"https://colab.research.google.com/assets/colab-badge.svg\" alt=\"Open In Colab\"/></a>"
      ]
    },
    {
      "cell_type": "markdown",
      "metadata": {
        "id": "BEr8HoAlB55R"
      },
      "source": [
        "## Lists\n",
        "##### Creating Portfolio of Stock List\n"
      ]
    },
    {
      "cell_type": "code",
      "metadata": {
        "id": "fHconaB3B5Dx"
      },
      "source": [
        "portfolio_ticker_list = ['FB','AAPL','PG','AMZN', 'MSFT', 'TSLA', 'JNJ', 'GOOG', 'GOOGL', 'JPM','WMAT','PYPL']"
      ],
      "execution_count": null,
      "outputs": []
    },
    {
      "cell_type": "code",
      "metadata": {
        "id": "OHazcMkuGsjj"
      },
      "source": [
        "portfolio_ticker_list"
      ],
      "execution_count": null,
      "outputs": []
    },
    {
      "cell_type": "markdown",
      "metadata": {
        "id": "aPIt2QUGTvnF"
      },
      "source": [
        "#### Accessing Element in a List:"
      ]
    },
    {
      "cell_type": "code",
      "metadata": {
        "id": "GO54Qs5HGwOB"
      },
      "source": [
        "portfolio_ticker_list[2]"
      ],
      "execution_count": null,
      "outputs": []
    },
    {
      "cell_type": "code",
      "metadata": {
        "id": "Fnou8YehG8wc"
      },
      "source": [
        "portfolio_ticker_list[3]"
      ],
      "execution_count": null,
      "outputs": []
    },
    {
      "cell_type": "code",
      "metadata": {
        "id": "OF-gagm9HEfN"
      },
      "source": [
        "portfolio_ticker_list[7]"
      ],
      "execution_count": null,
      "outputs": []
    },
    {
      "cell_type": "code",
      "metadata": {
        "id": "2c9CiqJ6KZ-t"
      },
      "source": [
        "portfolio_ticker_list[-1]"
      ],
      "execution_count": null,
      "outputs": []
    },
    {
      "cell_type": "code",
      "metadata": {
        "id": "yoxTuctNKd6H"
      },
      "source": [
        "portfolio_ticker_list[-2]"
      ],
      "execution_count": null,
      "outputs": []
    },
    {
      "cell_type": "code",
      "metadata": {
        "id": "F2hj5SQGMgFn"
      },
      "source": [
        "portfolio_ticker_list[15]"
      ],
      "execution_count": null,
      "outputs": []
    },
    {
      "cell_type": "markdown",
      "metadata": {
        "id": "5htK8t7MmGbg"
      },
      "source": [
        "#### List of Mix Data Types"
      ]
    },
    {
      "cell_type": "code",
      "metadata": {
        "id": "XvLOJm3OmFL9"
      },
      "source": [
        "mix_data_types = [2, 4.4, 'artificial intelligence using python', True]"
      ],
      "execution_count": null,
      "outputs": []
    },
    {
      "cell_type": "code",
      "metadata": {
        "id": "aR63nh9PmUGy"
      },
      "source": [
        "mix_data_types[1]"
      ],
      "execution_count": null,
      "outputs": []
    },
    {
      "cell_type": "code",
      "metadata": {
        "id": "N-hnJJMxmUOu"
      },
      "source": [
        "mix_data_types[2]"
      ],
      "execution_count": null,
      "outputs": []
    },
    {
      "cell_type": "code",
      "metadata": {
        "id": "qVKEoCX9mUXE"
      },
      "source": [
        "mix_data_types[3]"
      ],
      "execution_count": null,
      "outputs": []
    },
    {
      "cell_type": "markdown",
      "metadata": {
        "id": "WkeT1ZHPT6L3"
      },
      "source": [
        "#### Slice and Dice with Lists"
      ]
    },
    {
      "cell_type": "code",
      "metadata": {
        "id": "oSYmkTm3Uiju"
      },
      "source": [
        "First_five_stocks = portfolio_ticker_list[ 0  :  5 ]"
      ],
      "execution_count": null,
      "outputs": []
    },
    {
      "cell_type": "code",
      "metadata": {
        "id": "QO0yMSllU3Z3"
      },
      "source": [
        "print(First_five_stocks)"
      ],
      "execution_count": null,
      "outputs": []
    },
    {
      "cell_type": "markdown",
      "metadata": {
        "id": "JnaVwZx3JTez"
      },
      "source": [
        "##### Short cut way of slicing"
      ]
    },
    {
      "cell_type": "code",
      "metadata": {
        "id": "Cq8zO_iOwgJb"
      },
      "source": [
        "First_five_stocks = portfolio_ticker_list[ : 5]\n",
        "print(First_five_stocks)"
      ],
      "execution_count": null,
      "outputs": []
    },
    {
      "cell_type": "code",
      "metadata": {
        "id": "uDmgZZVdJ0t4"
      },
      "source": [
        "Last_three_stocks = portfolio_ticker_list[ 9 : ]\n",
        "print(Last_three_stocks)"
      ],
      "execution_count": null,
      "outputs": []
    },
    {
      "cell_type": "code",
      "metadata": {
        "id": "pqlNMvmRP8Ri"
      },
      "source": [
        "Last_three_stocks = portfolio_ticker_list[ -3 : ]\n",
        "print(Last_three_stocks)"
      ],
      "execution_count": null,
      "outputs": []
    },
    {
      "cell_type": "code",
      "metadata": {
        "id": "pkeoZ0WOag0D"
      },
      "source": [
        "Last_five_stocks =portfolio_ticker_list[-5:]\n",
        "print(Last_five_stocks)"
      ],
      "execution_count": null,
      "outputs": []
    },
    {
      "cell_type": "code",
      "metadata": {
        "id": "-2p8REBpJmgX"
      },
      "source": [
        ""
      ],
      "execution_count": null,
      "outputs": []
    },
    {
      "cell_type": "markdown",
      "metadata": {
        "id": "0bbIinzBKhuI"
      },
      "source": [
        "### List Methods\n",
        "Adding Pfizer symbol \"PFE\" in the portfolio list "
      ]
    },
    {
      "cell_type": "code",
      "metadata": {
        "id": "9RUPGlLuKjzL"
      },
      "source": [
        "portfolio_ticker_list.append(\"PFE\")"
      ],
      "execution_count": null,
      "outputs": []
    },
    {
      "cell_type": "code",
      "metadata": {
        "id": "zO_0zjL9Md07"
      },
      "source": [
        "portfolio_ticker_list"
      ],
      "execution_count": null,
      "outputs": []
    },
    {
      "cell_type": "code",
      "metadata": {
        "id": "yerEljhGYUGP"
      },
      "source": [
        "portfolio_ticker_list.insert(0, \"PEP\")"
      ],
      "execution_count": null,
      "outputs": []
    },
    {
      "cell_type": "code",
      "metadata": {
        "id": "yUP1an8kYZF5"
      },
      "source": [
        "portfolio_ticker_list"
      ],
      "execution_count": null,
      "outputs": []
    },
    {
      "cell_type": "markdown",
      "metadata": {
        "id": "Y8BsWpWlSQ3M"
      },
      "source": [
        "### Functions that can be used with lists\n"
      ]
    },
    {
      "cell_type": "code",
      "metadata": {
        "id": "1EJIMyEhQ-5b"
      },
      "source": [
        "len(portfolio_ticker_list)"
      ],
      "execution_count": null,
      "outputs": []
    },
    {
      "cell_type": "code",
      "metadata": {
        "id": "fnzWgD0CSc_9"
      },
      "source": [
        "min(portfolio_ticker_list)"
      ],
      "execution_count": null,
      "outputs": []
    },
    {
      "cell_type": "code",
      "metadata": {
        "id": "Wau3O0PxUlKe"
      },
      "source": [
        "max(portfolio_ticker_list)"
      ],
      "execution_count": null,
      "outputs": []
    },
    {
      "cell_type": "code",
      "metadata": {
        "id": "T5va8YjJUnL_"
      },
      "source": [
        "sorted(portfolio_ticker_list)"
      ],
      "execution_count": null,
      "outputs": []
    },
    {
      "cell_type": "code",
      "metadata": {
        "id": "hy7-hK21Zy3z"
      },
      "source": [
        "'JNJ' in portfolio_ticker_list"
      ],
      "execution_count": null,
      "outputs": []
    },
    {
      "cell_type": "code",
      "metadata": {
        "id": "E5Y2BJRzZ5k3"
      },
      "source": [
        "'JNJ' not in portfolio_ticker_list"
      ],
      "execution_count": null,
      "outputs": []
    },
    {
      "cell_type": "code",
      "metadata": {
        "id": "wkKSjww9aAcL"
      },
      "source": [
        ""
      ],
      "execution_count": null,
      "outputs": []
    }
  ]
}