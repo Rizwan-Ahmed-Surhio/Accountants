{
  "nbformat": 4,
  "nbformat_minor": 0,
  "metadata": {
    "colab": {
      "name": "8_StringConcatenation.ipynb",
      "provenance": [],
      "collapsed_sections": [],
      "authorship_tag": "ABX9TyOwA88HZetlnXhaoNUA0emc",
      "include_colab_link": true
    },
    "kernelspec": {
      "name": "python3",
      "display_name": "Python 3"
    }
  },
  "cells": [
    {
      "cell_type": "markdown",
      "metadata": {
        "id": "view-in-github",
        "colab_type": "text"
      },
      "source": [
        "<a href=\"https://colab.research.google.com/github/Rizwan-Ahmed-Surhio/Accountants/blob/main/8_StringConcatenation.ipynb\" target=\"_parent\"><img src=\"https://colab.research.google.com/assets/colab-badge.svg\" alt=\"Open In Colab\"/></a>"
      ]
    },
    {
      "cell_type": "markdown",
      "metadata": {
        "id": "bg0OTQTmmOTj"
      },
      "source": [
        "# String Concatenation\n",
        "#### String concatenation means adding strings together using + character."
      ]
    },
    {
      "cell_type": "code",
      "metadata": {
        "id": "4Tl-4rF2mGdb"
      },
      "source": [
        "x = \"Revenue for the year is\"\n",
        "y = \" five thousand.\""
      ],
      "execution_count": null,
      "outputs": []
    },
    {
      "cell_type": "code",
      "metadata": {
        "id": "TghMQyo5mlMe"
      },
      "source": [
        "print(x + y)"
      ],
      "execution_count": null,
      "outputs": []
    },
    {
      "cell_type": "code",
      "metadata": {
        "id": "n0xzk258moo_"
      },
      "source": [
        "x = \"Revenue for the year is\"\n",
        "y = \"five thousand.\""
      ],
      "execution_count": null,
      "outputs": []
    },
    {
      "cell_type": "code",
      "metadata": {
        "id": "4ox8QEMImvvy"
      },
      "source": [
        "print(x + y)"
      ],
      "execution_count": null,
      "outputs": []
    },
    {
      "cell_type": "code",
      "metadata": {
        "id": "W-siVi3R9JzN"
      },
      "source": [
        "x = \"Revenue for the year is\"\n",
        "y = 5000"
      ],
      "execution_count": null,
      "outputs": []
    },
    {
      "cell_type": "code",
      "metadata": {
        "id": "lJkQSQmj9fy6"
      },
      "source": [
        "print(x + y)"
      ],
      "execution_count": null,
      "outputs": []
    },
    {
      "cell_type": "markdown",
      "metadata": {
        "id": "o5dkub6FsqD-"
      },
      "source": [
        "### Concatenating String with Number"
      ]
    },
    {
      "cell_type": "code",
      "metadata": {
        "id": "BUYVikvi9ubD"
      },
      "source": [
        "x = \"Revenue for the year is \"\n",
        "y = str(5000)"
      ],
      "execution_count": null,
      "outputs": []
    },
    {
      "cell_type": "code",
      "metadata": {
        "id": "1uWN0VEps6bX"
      },
      "source": [
        "print(x + y)"
      ],
      "execution_count": null,
      "outputs": []
    },
    {
      "cell_type": "code",
      "metadata": {
        "id": "NTtair30tBxD"
      },
      "source": [
        ""
      ],
      "execution_count": null,
      "outputs": []
    }
  ]
}