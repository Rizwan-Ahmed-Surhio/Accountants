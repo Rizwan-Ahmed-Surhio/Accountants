{
  "nbformat": 4,
  "nbformat_minor": 0,
  "metadata": {
    "colab": {
      "name": "DataAcquistion.ipynb",
      "provenance": [],
      "authorship_tag": "ABX9TyN4SmKaRUgzbRlQFXBnG3P8",
      "include_colab_link": true
    },
    "kernelspec": {
      "name": "python3",
      "display_name": "Python 3"
    },
    "language_info": {
      "name": "python"
    }
  },
  "cells": [
    {
      "cell_type": "markdown",
      "metadata": {
        "id": "view-in-github",
        "colab_type": "text"
      },
      "source": [
        "<a href=\"https://colab.research.google.com/github/Rizwan-Ahmed-Surhio/Accountants/blob/main/DataAcquistion.ipynb\" target=\"_parent\"><img src=\"https://colab.research.google.com/assets/colab-badge.svg\" alt=\"Open In Colab\"/></a>"
      ]
    },
    {
      "cell_type": "code",
      "metadata": {
        "colab": {
          "base_uri": "https://localhost:8080/"
        },
        "id": "pfgiPkB9AL6A",
        "outputId": "07fed79b-a618-4dd5-c827-70be69832b55"
      },
      "source": [
        "!pip install pandas-datareader"
      ],
      "execution_count": null,
      "outputs": [
        {
          "output_type": "stream",
          "text": [
            "Requirement already satisfied: pandas-datareader in /usr/local/lib/python3.7/dist-packages (0.9.0)\n",
            "Requirement already satisfied: requests>=2.19.0 in /usr/local/lib/python3.7/dist-packages (from pandas-datareader) (2.23.0)\n",
            "Requirement already satisfied: lxml in /usr/local/lib/python3.7/dist-packages (from pandas-datareader) (4.2.6)\n",
            "Requirement already satisfied: pandas>=0.23 in /usr/local/lib/python3.7/dist-packages (from pandas-datareader) (1.1.5)\n",
            "Requirement already satisfied: certifi>=2017.4.17 in /usr/local/lib/python3.7/dist-packages (from requests>=2.19.0->pandas-datareader) (2020.12.5)\n",
            "Requirement already satisfied: urllib3!=1.25.0,!=1.25.1,<1.26,>=1.21.1 in /usr/local/lib/python3.7/dist-packages (from requests>=2.19.0->pandas-datareader) (1.24.3)\n",
            "Requirement already satisfied: idna<3,>=2.5 in /usr/local/lib/python3.7/dist-packages (from requests>=2.19.0->pandas-datareader) (2.10)\n",
            "Requirement already satisfied: chardet<4,>=3.0.2 in /usr/local/lib/python3.7/dist-packages (from requests>=2.19.0->pandas-datareader) (3.0.4)\n",
            "Requirement already satisfied: pytz>=2017.2 in /usr/local/lib/python3.7/dist-packages (from pandas>=0.23->pandas-datareader) (2018.9)\n",
            "Requirement already satisfied: numpy>=1.15.4 in /usr/local/lib/python3.7/dist-packages (from pandas>=0.23->pandas-datareader) (1.19.5)\n",
            "Requirement already satisfied: python-dateutil>=2.7.3 in /usr/local/lib/python3.7/dist-packages (from pandas>=0.23->pandas-datareader) (2.8.1)\n",
            "Requirement already satisfied: six>=1.5 in /usr/local/lib/python3.7/dist-packages (from python-dateutil>=2.7.3->pandas>=0.23->pandas-datareader) (1.15.0)\n"
          ],
          "name": "stdout"
        }
      ]
    },
    {
      "cell_type": "code",
      "metadata": {
        "id": "BCE9EuHCAGjQ"
      },
      "source": [
        "import pandas_datareader as pdr\n",
        "import pandas as pd"
      ],
      "execution_count": null,
      "outputs": []
    },
    {
      "cell_type": "code",
      "metadata": {
        "id": "XMi17Xj6Ahs3",
        "colab": {
          "base_uri": "https://localhost:8080/",
          "height": 455
        },
        "outputId": "dccf532b-ac99-46d9-a7a4-78347e128415"
      },
      "source": [
        "apple = pdr.DataReader(\"AAPL\", \"yahoo\", start = '2016-05-01', end = '2021-05-03')\n",
        "apple"
      ],
      "execution_count": null,
      "outputs": [
        {
          "output_type": "execute_result",
          "data": {
            "text/html": [
              "<div>\n",
              "<style scoped>\n",
              "    .dataframe tbody tr th:only-of-type {\n",
              "        vertical-align: middle;\n",
              "    }\n",
              "\n",
              "    .dataframe tbody tr th {\n",
              "        vertical-align: top;\n",
              "    }\n",
              "\n",
              "    .dataframe thead th {\n",
              "        text-align: right;\n",
              "    }\n",
              "</style>\n",
              "<table border=\"1\" class=\"dataframe\">\n",
              "  <thead>\n",
              "    <tr style=\"text-align: right;\">\n",
              "      <th></th>\n",
              "      <th>High</th>\n",
              "      <th>Low</th>\n",
              "      <th>Open</th>\n",
              "      <th>Close</th>\n",
              "      <th>Volume</th>\n",
              "      <th>Adj Close</th>\n",
              "    </tr>\n",
              "    <tr>\n",
              "      <th>Date</th>\n",
              "      <th></th>\n",
              "      <th></th>\n",
              "      <th></th>\n",
              "      <th></th>\n",
              "      <th></th>\n",
              "      <th></th>\n",
              "    </tr>\n",
              "  </thead>\n",
              "  <tbody>\n",
              "    <tr>\n",
              "      <th>2016-05-02</th>\n",
              "      <td>23.520000</td>\n",
              "      <td>23.100000</td>\n",
              "      <td>23.492500</td>\n",
              "      <td>23.410000</td>\n",
              "      <td>192640400.0</td>\n",
              "      <td>21.736921</td>\n",
              "    </tr>\n",
              "    <tr>\n",
              "      <th>2016-05-03</th>\n",
              "      <td>23.934999</td>\n",
              "      <td>23.420000</td>\n",
              "      <td>23.549999</td>\n",
              "      <td>23.795000</td>\n",
              "      <td>227325200.0</td>\n",
              "      <td>22.094408</td>\n",
              "    </tr>\n",
              "    <tr>\n",
              "      <th>2016-05-04</th>\n",
              "      <td>23.975000</td>\n",
              "      <td>23.455000</td>\n",
              "      <td>23.799999</td>\n",
              "      <td>23.547501</td>\n",
              "      <td>164102000.0</td>\n",
              "      <td>21.864603</td>\n",
              "    </tr>\n",
              "    <tr>\n",
              "      <th>2016-05-05</th>\n",
              "      <td>23.517500</td>\n",
              "      <td>23.170000</td>\n",
              "      <td>23.500000</td>\n",
              "      <td>23.309999</td>\n",
              "      <td>143562000.0</td>\n",
              "      <td>21.775850</td>\n",
              "    </tr>\n",
              "    <tr>\n",
              "      <th>2016-05-06</th>\n",
              "      <td>23.362499</td>\n",
              "      <td>22.962500</td>\n",
              "      <td>23.342501</td>\n",
              "      <td>23.180000</td>\n",
              "      <td>174799600.0</td>\n",
              "      <td>21.654408</td>\n",
              "    </tr>\n",
              "    <tr>\n",
              "      <th>...</th>\n",
              "      <td>...</td>\n",
              "      <td>...</td>\n",
              "      <td>...</td>\n",
              "      <td>...</td>\n",
              "      <td>...</td>\n",
              "      <td>...</td>\n",
              "    </tr>\n",
              "    <tr>\n",
              "      <th>2021-04-27</th>\n",
              "      <td>135.410004</td>\n",
              "      <td>134.110001</td>\n",
              "      <td>135.009995</td>\n",
              "      <td>134.389999</td>\n",
              "      <td>66015800.0</td>\n",
              "      <td>134.162109</td>\n",
              "    </tr>\n",
              "    <tr>\n",
              "      <th>2021-04-28</th>\n",
              "      <td>135.020004</td>\n",
              "      <td>133.080002</td>\n",
              "      <td>134.309998</td>\n",
              "      <td>133.580002</td>\n",
              "      <td>107760100.0</td>\n",
              "      <td>133.353485</td>\n",
              "    </tr>\n",
              "    <tr>\n",
              "      <th>2021-04-29</th>\n",
              "      <td>137.070007</td>\n",
              "      <td>132.449997</td>\n",
              "      <td>136.470001</td>\n",
              "      <td>133.479996</td>\n",
              "      <td>151101000.0</td>\n",
              "      <td>133.253662</td>\n",
              "    </tr>\n",
              "    <tr>\n",
              "      <th>2021-04-30</th>\n",
              "      <td>133.559998</td>\n",
              "      <td>131.070007</td>\n",
              "      <td>131.779999</td>\n",
              "      <td>131.460007</td>\n",
              "      <td>109713200.0</td>\n",
              "      <td>131.237091</td>\n",
              "    </tr>\n",
              "    <tr>\n",
              "      <th>2021-05-03</th>\n",
              "      <td>134.070007</td>\n",
              "      <td>131.830002</td>\n",
              "      <td>132.039993</td>\n",
              "      <td>132.539993</td>\n",
              "      <td>75135100.0</td>\n",
              "      <td>132.315247</td>\n",
              "    </tr>\n",
              "  </tbody>\n",
              "</table>\n",
              "<p>1260 rows × 6 columns</p>\n",
              "</div>"
            ],
            "text/plain": [
              "                  High         Low  ...       Volume   Adj Close\n",
              "Date                                ...                         \n",
              "2016-05-02   23.520000   23.100000  ...  192640400.0   21.736921\n",
              "2016-05-03   23.934999   23.420000  ...  227325200.0   22.094408\n",
              "2016-05-04   23.975000   23.455000  ...  164102000.0   21.864603\n",
              "2016-05-05   23.517500   23.170000  ...  143562000.0   21.775850\n",
              "2016-05-06   23.362499   22.962500  ...  174799600.0   21.654408\n",
              "...                ...         ...  ...          ...         ...\n",
              "2021-04-27  135.410004  134.110001  ...   66015800.0  134.162109\n",
              "2021-04-28  135.020004  133.080002  ...  107760100.0  133.353485\n",
              "2021-04-29  137.070007  132.449997  ...  151101000.0  133.253662\n",
              "2021-04-30  133.559998  131.070007  ...  109713200.0  131.237091\n",
              "2021-05-03  134.070007  131.830002  ...   75135100.0  132.315247\n",
              "\n",
              "[1260 rows x 6 columns]"
            ]
          },
          "metadata": {
            "tags": []
          },
          "execution_count": 3
        }
      ]
    }
  ]
}