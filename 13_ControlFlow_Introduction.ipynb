{
  "nbformat": 4,
  "nbformat_minor": 0,
  "metadata": {
    "colab": {
      "name": "13_ControlFlow - Introduction.ipynb",
      "provenance": [],
      "collapsed_sections": [],
      "authorship_tag": "ABX9TyPYwjieYX0N+4zRikdIPa7t",
      "include_colab_link": true
    },
    "kernelspec": {
      "name": "python3",
      "display_name": "Python 3"
    }
  },
  "cells": [
    {
      "cell_type": "markdown",
      "metadata": {
        "id": "view-in-github",
        "colab_type": "text"
      },
      "source": [
        "<a href=\"https://colab.research.google.com/github/Rizwan-Ahmed-Surhio/Accountants/blob/main/13_ControlFlow_Introduction.ipynb\" target=\"_parent\"><img src=\"https://colab.research.google.com/assets/colab-badge.svg\" alt=\"Open In Colab\"/></a>"
      ]
    },
    {
      "cell_type": "markdown",
      "metadata": {
        "id": "3meOYZR64k5S"
      },
      "source": [
        "## DRY Approach"
      ]
    },
    {
      "cell_type": "code",
      "metadata": {
        "id": "hIrHx06h6qwz"
      },
      "source": [
        "!pip install yahoo_fin"
      ],
      "execution_count": null,
      "outputs": []
    },
    {
      "cell_type": "code",
      "metadata": {
        "id": "KO9pMY4F4gJu"
      },
      "source": [
        "import yahoo_fin.stock_info as si\n",
        "import pandas as pd"
      ],
      "execution_count": 2,
      "outputs": []
    },
    {
      "cell_type": "code",
      "metadata": {
        "id": "PH5_qR2y6y5m"
      },
      "source": [
        "# get all historical dividend data\n",
        "MSFT = si.get_quote_table('msft')['1y Target Est']\n"
      ],
      "execution_count": 3,
      "outputs": []
    },
    {
      "cell_type": "code",
      "metadata": {
        "id": "QXHt9UV5AiqO"
      },
      "source": [
        "MSFT"
      ],
      "execution_count": null,
      "outputs": []
    },
    {
      "cell_type": "code",
      "metadata": {
        "id": "zY9mKHLyApnZ"
      },
      "source": [
        "AAPL = si.get_quote_table('aapl')['1y Target Est']\n",
        "\n",
        "TSLA = si.get_quote_table('TSLA')['1y Target Est']\n",
        "\n",
        "WOW =  si.get_quote_table('wow.ax')['1y Target Est']\n",
        "\n",
        "Barclays = si.get_quote_table('BARC.L')['1y Target Est']\n"
      ],
      "execution_count": 5,
      "outputs": []
    },
    {
      "cell_type": "code",
      "metadata": {
        "id": "bIij39V6A62t"
      },
      "source": [
        "print(AAPL,TSLA,WOW,Barclays)\n"
      ],
      "execution_count": null,
      "outputs": []
    },
    {
      "cell_type": "markdown",
      "metadata": {
        "id": "NitIfmYUATrm"
      },
      "source": [
        "### Loop"
      ]
    },
    {
      "cell_type": "code",
      "metadata": {
        "id": "-yPbD1xN8HcP"
      },
      "source": [
        "tickers = ['msft', 'aapl', 'TSLA', 'wow.ax', 'BARC.L', 'NAB.AX']\n",
        "data = {}\n",
        "\n",
        "for i in tickers:\n",
        "  data[i] = si.get_quote_table(i)['1y Target Est']\n",
        "  \n",
        "stocks = pd.DataFrame(list(data.items()),columns = ['symbol','Target'])"
      ],
      "execution_count": 10,
      "outputs": []
    },
    {
      "cell_type": "code",
      "metadata": {
        "id": "lNZvNT9m8k91"
      },
      "source": [
        "stocks"
      ],
      "execution_count": null,
      "outputs": []
    },
    {
      "cell_type": "code",
      "metadata": {
        "id": "H_wiU-Wu8zh8"
      },
      "source": [
        ""
      ],
      "execution_count": null,
      "outputs": []
    }
  ]
}