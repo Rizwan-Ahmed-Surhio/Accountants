{
  "nbformat": 4,
  "nbformat_minor": 0,
  "metadata": {
    "colab": {
      "name": "5_OperatorArithmetic .ipynb",
      "provenance": [],
      "collapsed_sections": [],
      "authorship_tag": "ABX9TyP4z5BJKuM4PNNcOP4syM20",
      "include_colab_link": true
    },
    "kernelspec": {
      "name": "python3",
      "display_name": "Python 3"
    }
  },
  "cells": [
    {
      "cell_type": "markdown",
      "metadata": {
        "id": "view-in-github",
        "colab_type": "text"
      },
      "source": [
        "<a href=\"https://colab.research.google.com/github/Rizwan-Ahmed-Surhio/Accountants/blob/main/5_OperatorArithmetic_.ipynb\" target=\"_parent\"><img src=\"https://colab.research.google.com/assets/colab-badge.svg\" alt=\"Open In Colab\"/></a>"
      ]
    },
    {
      "cell_type": "markdown",
      "metadata": {
        "id": "mdDu-WmWHMl5"
      },
      "source": [
        "## Arithmetic Operations"
      ]
    },
    {
      "cell_type": "code",
      "metadata": {
        "id": "rxX8MDDJHZXO"
      },
      "source": [
        "2 + 2 "
      ],
      "execution_count": null,
      "outputs": []
    },
    {
      "cell_type": "code",
      "metadata": {
        "id": "t7i83QVBiSUw"
      },
      "source": [
        "4 - 2"
      ],
      "execution_count": null,
      "outputs": []
    },
    {
      "cell_type": "code",
      "metadata": {
        "id": "lrMEIxQ4iVa0"
      },
      "source": [
        "4 * 3"
      ],
      "execution_count": null,
      "outputs": []
    },
    {
      "cell_type": "code",
      "metadata": {
        "id": "yQPLupyR67WR"
      },
      "source": [
        "16 / 4"
      ],
      "execution_count": null,
      "outputs": []
    },
    {
      "cell_type": "code",
      "metadata": {
        "id": "qXiTsKkW6BEN"
      },
      "source": [
        "2 ** 3"
      ],
      "execution_count": null,
      "outputs": []
    },
    {
      "cell_type": "markdown",
      "metadata": {
        "id": "9Zua-AIKl7TY"
      },
      "source": [
        "### Modulo Operator"
      ]
    },
    {
      "cell_type": "code",
      "metadata": {
        "id": "yPSDLyYL7MON"
      },
      "source": [
        "7 % 2\n"
      ],
      "execution_count": null,
      "outputs": []
    },
    {
      "cell_type": "markdown",
      "metadata": {
        "id": "dWXDxpbNlxZ_"
      },
      "source": [
        "### Integer Division\n"
      ]
    },
    {
      "cell_type": "code",
      "metadata": {
        "id": "7jD191gbGbS3"
      },
      "source": [
        "-16 / 3"
      ],
      "execution_count": null,
      "outputs": []
    },
    {
      "cell_type": "code",
      "metadata": {
        "id": "DUe_gfuqGJG7"
      },
      "source": [
        "16 // 3"
      ],
      "execution_count": null,
      "outputs": []
    },
    {
      "cell_type": "code",
      "metadata": {
        "id": "YolrkdvlGW2P"
      },
      "source": [
        "-16 // 3"
      ],
      "execution_count": null,
      "outputs": []
    }
  ]
}