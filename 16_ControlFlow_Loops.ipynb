{
  "nbformat": 4,
  "nbformat_minor": 0,
  "metadata": {
    "colab": {
      "name": "16_ControlFlow- Loops.ipynb",
      "provenance": [],
      "collapsed_sections": [],
      "authorship_tag": "ABX9TyMI5t9r5HEcx7b+la1CBFMJ",
      "include_colab_link": true
    },
    "kernelspec": {
      "name": "python3",
      "display_name": "Python 3"
    },
    "language_info": {
      "name": "python"
    }
  },
  "cells": [
    {
      "cell_type": "markdown",
      "metadata": {
        "id": "view-in-github",
        "colab_type": "text"
      },
      "source": [
        "<a href=\"https://colab.research.google.com/github/Rizwan-Ahmed-Surhio/Accountants/blob/main/16_ControlFlow_Loops.ipynb\" target=\"_parent\"><img src=\"https://colab.research.google.com/assets/colab-badge.svg\" alt=\"Open In Colab\"/></a>"
      ]
    },
    {
      "cell_type": "markdown",
      "metadata": {
        "id": "1Y86e_H48VJ5"
      },
      "source": [
        "# Loops"
      ]
    },
    {
      "cell_type": "markdown",
      "metadata": {
        "id": "tBb_XnvB8SEy"
      },
      "source": [
        "### For loop"
      ]
    },
    {
      "cell_type": "markdown",
      "metadata": {
        "id": "99D1fff48Ydy"
      },
      "source": [
        "#### Iterable"
      ]
    },
    {
      "cell_type": "code",
      "metadata": {
        "id": "WG9jKHoc8QBh"
      },
      "source": [
        "product_cost = [1000, 2000, 3000, 4000, 5000, 6000, 7000, 8000, 9000, 11000, 15000, 16000, 18000]"
      ],
      "execution_count": 1,
      "outputs": []
    },
    {
      "cell_type": "code",
      "metadata": {
        "id": "PR66qtg28Q1r"
      },
      "source": [
        "type(product_cost)"
      ],
      "execution_count": null,
      "outputs": []
    },
    {
      "cell_type": "code",
      "metadata": {
        "id": "vSQPtEmK8Rie"
      },
      "source": [
        "product_price = []\n",
        "for i in product_cost:\n",
        "  product_price.append(i*1.20)\n",
        "\n"
      ],
      "execution_count": 3,
      "outputs": []
    },
    {
      "cell_type": "code",
      "metadata": {
        "id": "kEdDA0fv6EwO"
      },
      "source": [
        "print(product_price)"
      ],
      "execution_count": null,
      "outputs": []
    },
    {
      "cell_type": "markdown",
      "metadata": {
        "id": "sUF53_hl6HwK"
      },
      "source": [
        "### While Loop"
      ]
    },
    {
      "cell_type": "code",
      "metadata": {
        "id": "y7JMNVZuSJO3"
      },
      "source": [
        "target = 20000\n",
        "balance = 10000\n",
        "rate = 5\n",
        "year = 0\n",
        "interest = 0\n",
        "\n",
        "\n"
      ],
      "execution_count": 5,
      "outputs": []
    },
    {
      "cell_type": "code",
      "metadata": {
        "id": "L5ooybJ7SlrK"
      },
      "source": [
        "while balance < target:\n",
        "  \n",
        "  interest = balance * rate / 100\n",
        "  balance = balance + interest\n",
        "  year =year +1\n",
        "\n",
        "print(year)"
      ],
      "execution_count": null,
      "outputs": []
    },
    {
      "cell_type": "code",
      "metadata": {
        "id": "tYlAxw-LTLJ9"
      },
      "source": [
        "print(interest, balance)"
      ],
      "execution_count": null,
      "outputs": []
    }
  ]
}