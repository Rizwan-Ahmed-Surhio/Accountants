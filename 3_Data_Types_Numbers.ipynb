{
  "nbformat": 4,
  "nbformat_minor": 0,
  "metadata": {
    "colab": {
      "name": "3_Data Types Numbers.ipynb",
      "provenance": [],
      "collapsed_sections": [],
      "authorship_tag": "ABX9TyOcYuaRIdsmExnSXMnYRegh",
      "include_colab_link": true
    },
    "kernelspec": {
      "name": "python3",
      "display_name": "Python 3"
    }
  },
  "cells": [
    {
      "cell_type": "markdown",
      "metadata": {
        "id": "view-in-github",
        "colab_type": "text"
      },
      "source": [
        "<a href=\"https://colab.research.google.com/github/Rizwan-Ahmed-Surhio/Accountants/blob/main/3_Data_Types_Numbers.ipynb\" target=\"_parent\"><img src=\"https://colab.research.google.com/assets/colab-badge.svg\" alt=\"Open In Colab\"/></a>"
      ]
    },
    {
      "cell_type": "markdown",
      "metadata": {
        "id": "mqbdlZmzB9UE"
      },
      "source": [
        "### Data Types - Numbers"
      ]
    },
    {
      "cell_type": "code",
      "metadata": {
        "id": "-JbCBMgLFu1j"
      },
      "source": [
        "type(9)"
      ],
      "execution_count": null,
      "outputs": []
    },
    {
      "cell_type": "code",
      "metadata": {
        "id": "k1N6uFUxF-au"
      },
      "source": [
        "type(9.5)"
      ],
      "execution_count": null,
      "outputs": []
    },
    {
      "cell_type": "code",
      "metadata": {
        "id": "7-N0rSGVGeqh"
      },
      "source": [
        "type(-9)"
      ],
      "execution_count": null,
      "outputs": []
    },
    {
      "cell_type": "code",
      "metadata": {
        "id": "_p_abx4HGnSO"
      },
      "source": [
        "type(-9.4)"
      ],
      "execution_count": null,
      "outputs": []
    },
    {
      "cell_type": "code",
      "metadata": {
        "id": "6h8iIPjVHdnS"
      },
      "source": [
        "int(97.7)"
      ],
      "execution_count": null,
      "outputs": []
    },
    {
      "cell_type": "code",
      "metadata": {
        "id": "Ld-gGXYyIVRj"
      },
      "source": [
        "float(97)"
      ],
      "execution_count": null,
      "outputs": []
    }
  ]
}