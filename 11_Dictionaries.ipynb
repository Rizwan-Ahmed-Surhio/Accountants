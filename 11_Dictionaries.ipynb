{
  "nbformat": 4,
  "nbformat_minor": 0,
  "metadata": {
    "colab": {
      "name": "11_Dictionaries.ipynb",
      "provenance": [],
      "collapsed_sections": [],
      "authorship_tag": "ABX9TyNG494cdcN9t/Mfg/n8O8qU",
      "include_colab_link": true
    },
    "kernelspec": {
      "name": "python3",
      "display_name": "Python 3"
    }
  },
  "cells": [
    {
      "cell_type": "markdown",
      "metadata": {
        "id": "view-in-github",
        "colab_type": "text"
      },
      "source": [
        "<a href=\"https://colab.research.google.com/github/Rizwan-Ahmed-Surhio/Accountants/blob/main/11_Dictionaries.ipynb\" target=\"_parent\"><img src=\"https://colab.research.google.com/assets/colab-badge.svg\" alt=\"Open In Colab\"/></a>"
      ]
    },
    {
      "cell_type": "markdown",
      "metadata": {
        "id": "R619N_V-7o9N"
      },
      "source": [
        "### Dictionaries"
      ]
    },
    {
      "cell_type": "code",
      "metadata": {
        "id": "WhYqPnFQ7hAi"
      },
      "source": [
        "yearly_Sales = [40000, 42000, 47000, 52000, 39000]"
      ],
      "execution_count": null,
      "outputs": []
    },
    {
      "cell_type": "code",
      "metadata": {
        "id": "LFMurkV575TP"
      },
      "source": [
        "years = [2016,2019,2017,2020,2018]"
      ],
      "execution_count": null,
      "outputs": []
    },
    {
      "cell_type": "markdown",
      "metadata": {
        "id": "-B9Bydr39Ysh"
      },
      "source": [
        "#### Access List element using Integer"
      ]
    },
    {
      "cell_type": "code",
      "metadata": {
        "id": "TkUfZwIu9WSX"
      },
      "source": [
        "yearly_Sales[1]"
      ],
      "execution_count": null,
      "outputs": []
    },
    {
      "cell_type": "markdown",
      "metadata": {
        "id": "XEmnwm0U9fy6"
      },
      "source": [
        "#### Accessing Dictionary Element Using Key"
      ]
    },
    {
      "cell_type": "code",
      "metadata": {
        "id": "b4xnth-I8FHy"
      },
      "source": [
        "sales = {2016: 40000,\n",
        "         2017: 42000,\n",
        "         2018: 47000,\n",
        "         2019: 52000,\n",
        "         2020: 39000}"
      ],
      "execution_count": null,
      "outputs": []
    },
    {
      "cell_type": "code",
      "metadata": {
        "id": "EIRGqDKq8lrN"
      },
      "source": [
        "type(sales)"
      ],
      "execution_count": null,
      "outputs": []
    },
    {
      "cell_type": "code",
      "metadata": {
        "id": "vekpa7Wf8nF3"
      },
      "source": [
        "sales[2018]"
      ],
      "execution_count": null,
      "outputs": []
    },
    {
      "cell_type": "markdown",
      "metadata": {
        "id": "9Xvf9aJi86KY"
      },
      "source": [
        "##### Dictionary can have any type as key not just the integer in case of Lists "
      ]
    },
    {
      "cell_type": "code",
      "metadata": {
        "id": "gLb9EGje8wu7"
      },
      "source": [
        ""
      ],
      "execution_count": null,
      "outputs": []
    },
    {
      "cell_type": "markdown",
      "metadata": {
        "id": "qJJyL2tX-OoF"
      },
      "source": [
        "## Create a Dictionary of Apple Inc. financial data"
      ]
    },
    {
      "cell_type": "code",
      "metadata": {
        "id": "K-nRKHi1-cCc"
      },
      "source": [
        "apple = {\"date\":\t\"2020-09-26\",\n",
        "\"symbol\":\t\"AAPL\",\n",
        "\"ebitda\":\t81020000000,\n",
        "\"ebitdaratio\":\t0.295138699160337,\n",
        "\"operatingIncome\":\t66288000000,\n",
        "\"operatingIncomeRatio\":\t0.244398302460703,\n",
        "\"eps\":\t3.36,\n",
        "\"epsdiluted\":\t3.36,\n",
        "\"BasedInUS\": True\n",
        "\n",
        "}"
      ],
      "execution_count": null,
      "outputs": []
    },
    {
      "cell_type": "code",
      "metadata": {
        "id": "6g7CjaLISHdv"
      },
      "source": [
        "type(apple)"
      ],
      "execution_count": null,
      "outputs": []
    },
    {
      "cell_type": "markdown",
      "metadata": {
        "id": "GFbdAkzPSYTw"
      },
      "source": [
        "#### Find Apple EPS and Basedin In US data type"
      ]
    },
    {
      "cell_type": "code",
      "metadata": {
        "id": "V0cB1BG1WBrm"
      },
      "source": [
        "apple['eps']"
      ],
      "execution_count": null,
      "outputs": []
    },
    {
      "cell_type": "code",
      "metadata": {
        "id": "VdL5fQOfSOQZ"
      },
      "source": [
        "apple['BasedInUS']"
      ],
      "execution_count": null,
      "outputs": []
    },
    {
      "cell_type": "code",
      "metadata": {
        "id": "H4ReODOWSTn0"
      },
      "source": [
        ""
      ],
      "execution_count": null,
      "outputs": []
    },
    {
      "cell_type": "markdown",
      "metadata": {
        "id": "-AaMQQxro-7z"
      },
      "source": [
        "### Create a dictionary for Arrow company financial data"
      ]
    },
    {
      "cell_type": "code",
      "metadata": {
        "id": "bJgi4UZSpBs6"
      },
      "source": [
        "arrow = {'Revenue': 1000000,\n",
        "         'cost_of_sales': 600000,\n",
        "         'admin_cost': 150000,\n",
        "         'marketing_cost': 50000,\n",
        "         'interest': 2000,\n",
        "         'is_profitable': True}"
      ],
      "execution_count": null,
      "outputs": []
    },
    {
      "cell_type": "code",
      "metadata": {
        "id": "y5jqqEOKenPW"
      },
      "source": [
        "arrow"
      ],
      "execution_count": null,
      "outputs": []
    },
    {
      "cell_type": "code",
      "metadata": {
        "id": "JyyNn2ZfgfC9"
      },
      "source": [
        "arrow['Revenue']"
      ],
      "execution_count": null,
      "outputs": []
    },
    {
      "cell_type": "code",
      "metadata": {
        "id": "8oeBAkKMgi0a"
      },
      "source": [
        "arrow['admin_cost']"
      ],
      "execution_count": null,
      "outputs": []
    },
    {
      "cell_type": "markdown",
      "metadata": {
        "id": "bfVje0ONzzxi"
      },
      "source": [
        "### Adding a new key value pair in existing dictionary\n"
      ]
    },
    {
      "cell_type": "code",
      "metadata": {
        "id": "p6-oqagwz6We"
      },
      "source": [
        "arrow['profit_amount'] = 198000"
      ],
      "execution_count": null,
      "outputs": []
    },
    {
      "cell_type": "code",
      "metadata": {
        "id": "g72jOC-TkSRC"
      },
      "source": [
        "arrow"
      ],
      "execution_count": null,
      "outputs": []
    },
    {
      "cell_type": "markdown",
      "metadata": {
        "id": "GzyBL10Q0ZdL"
      },
      "source": [
        "### Change existing value of a key"
      ]
    },
    {
      "cell_type": "code",
      "metadata": {
        "id": "Wnh5uRKd0dwh"
      },
      "source": [
        "arrow['Revenue'] = 1200000"
      ],
      "execution_count": null,
      "outputs": []
    },
    {
      "cell_type": "code",
      "metadata": {
        "id": "IFjPGIzZnVF_"
      },
      "source": [
        "arrow"
      ],
      "execution_count": null,
      "outputs": []
    },
    {
      "cell_type": "markdown",
      "metadata": {
        "id": "pdBziJRu6dKJ"
      },
      "source": [
        "### Nested dictionary structures , List in a Dictionary"
      ]
    },
    {
      "cell_type": "code",
      "metadata": {
        "id": "urhVMz2j6nLC"
      },
      "source": [
        "employees = {\n",
        "    'accounting'  : 'Ahmed',\n",
        "    'marketing'   : 'Richard',\n",
        "    'HR'          : 'John',\n",
        "    'IT'          : ['Sofi', 'Irfan', 'Vikas', 'Sam']\n",
        "}"
      ],
      "execution_count": null,
      "outputs": []
    },
    {
      "cell_type": "code",
      "metadata": {
        "id": "qn3dkZxt8TjX"
      },
      "source": [
        "employees['IT']"
      ],
      "execution_count": null,
      "outputs": []
    },
    {
      "cell_type": "code",
      "metadata": {
        "id": "BKD6zuvb8Vzg"
      },
      "source": [
        "type(employees['IT'])"
      ],
      "execution_count": null,
      "outputs": []
    },
    {
      "cell_type": "code",
      "metadata": {
        "id": "AynfuOyb8_w-"
      },
      "source": [
        ""
      ],
      "execution_count": null,
      "outputs": []
    },
    {
      "cell_type": "markdown",
      "metadata": {
        "id": "Lnwsne2L-QGz"
      },
      "source": [
        "### get() Method"
      ]
    },
    {
      "cell_type": "code",
      "metadata": {
        "id": "5vVo8qWK-SGT"
      },
      "source": [
        "apple['EBITDA']"
      ],
      "execution_count": null,
      "outputs": []
    },
    {
      "cell_type": "code",
      "metadata": {
        "id": "5X4aGhPg-hcM"
      },
      "source": [
        "print(apple.get(\"EBITDA\"))"
      ],
      "execution_count": null,
      "outputs": []
    },
    {
      "cell_type": "code",
      "metadata": {
        "id": "lBU7u2if_fbX"
      },
      "source": [
        "print(apple.get(\"eps\"))"
      ],
      "execution_count": null,
      "outputs": []
    },
    {
      "cell_type": "code",
      "metadata": {
        "id": "D1g1kk1ez2zM"
      },
      "source": [
        "print(apple.get(\"population_Growth_in_US\", \"Sorry value not found\"))"
      ],
      "execution_count": null,
      "outputs": []
    }
  ]
}