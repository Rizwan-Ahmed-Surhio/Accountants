{
  "nbformat": 4,
  "nbformat_minor": 0,
  "metadata": {
    "colab": {
      "name": "MiniProject_CashFlowProjection.ipynb",
      "provenance": [],
      "collapsed_sections": [],
      "authorship_tag": "ABX9TyOX49D3VBE6+W7TaWvFQ6gP",
      "include_colab_link": true
    },
    "kernelspec": {
      "name": "python3",
      "display_name": "Python 3"
    },
    "language_info": {
      "name": "python"
    }
  },
  "cells": [
    {
      "cell_type": "markdown",
      "metadata": {
        "id": "view-in-github",
        "colab_type": "text"
      },
      "source": [
        "<a href=\"https://colab.research.google.com/github/Rizwan-Ahmed-Surhio/Accountants/blob/main/MiniProject_CashFlowProjection.ipynb\" target=\"_parent\"><img src=\"https://colab.research.google.com/assets/colab-badge.svg\" alt=\"Open In Colab\"/></a>"
      ]
    },
    {
      "cell_type": "code",
      "metadata": {
        "id": "6KAofEfZhkXN"
      },
      "source": [
        "import pandas as pd"
      ],
      "execution_count": null,
      "outputs": []
    },
    {
      "cell_type": "markdown",
      "metadata": {
        "id": "z4DXJ3GMNdpH"
      },
      "source": [
        "### List Comprehension and dict comprehension to create dict with numbers as values"
      ]
    },
    {
      "cell_type": "code",
      "metadata": {
        "id": "flntNza5hqDs"
      },
      "source": [
        "Income_first_year = 300\n",
        "Income_growth_rate = 0.07\n",
        "Discount_rate = 0.04\n",
        "total_years = 20"
      ],
      "execution_count": null,
      "outputs": []
    },
    {
      "cell_type": "code",
      "metadata": {
        "id": "RJcLL6Bgrk8p"
      },
      "source": [
        "income = []\n",
        "for i in range(total_years):\n",
        "  income.append(Income_first_year*(1+Income_growth_rate)**i)"
      ],
      "execution_count": null,
      "outputs": []
    },
    {
      "cell_type": "code",
      "metadata": {
        "id": "Cq7Skj9r2IU2",
        "colab": {
          "base_uri": "https://localhost:8080/"
        },
        "outputId": "b63664a4-c2a6-49e3-fd43-a86ba55aae37"
      },
      "source": [
        "list(range(20))"
      ],
      "execution_count": null,
      "outputs": [
        {
          "output_type": "execute_result",
          "data": {
            "text/plain": [
              "[0, 1, 2, 3, 4, 5, 6, 7, 8, 9, 10, 11, 12, 13, 14, 15, 16, 17, 18, 19]"
            ]
          },
          "metadata": {
            "tags": []
          },
          "execution_count": 4
        }
      ]
    },
    {
      "cell_type": "code",
      "metadata": {
        "id": "5XoWK0Fnsq7Y",
        "colab": {
          "base_uri": "https://localhost:8080/"
        },
        "outputId": "4de18c99-b2a1-4333-9d66-10e77d0cf0cd"
      },
      "source": [
        "income"
      ],
      "execution_count": null,
      "outputs": [
        {
          "output_type": "execute_result",
          "data": {
            "text/plain": [
              "[300.0,\n",
              " 321.0,\n",
              " 343.47,\n",
              " 367.51290000000006,\n",
              " 393.2388030000001,\n",
              " 420.7655192100001,\n",
              " 450.21910555470015,\n",
              " 481.7344429435292,\n",
              " 515.4558539495763,\n",
              " 551.5377637260467,\n",
              " 590.14540718687,\n",
              " 631.4555856899509,\n",
              " 675.6574766882475,\n",
              " 722.9535000564248,\n",
              " 773.5602450603745,\n",
              " 827.7094622146009,\n",
              " 885.649124569623,\n",
              " 947.6445632894967,\n",
              " 1013.9796827197615,\n",
              " 1084.958260510145]"
            ]
          },
          "metadata": {
            "tags": []
          },
          "execution_count": 15
        }
      ]
    },
    {
      "cell_type": "code",
      "metadata": {
        "id": "4Ltzrd8or6lp"
      },
      "source": [
        "discount_factor = []\n",
        "for i in range(total_years):\n",
        "  discount_factor.append((1+Discount_rate)**(-i))\n"
      ],
      "execution_count": null,
      "outputs": []
    },
    {
      "cell_type": "code",
      "metadata": {
        "id": "sFnndiTnslc2",
        "colab": {
          "base_uri": "https://localhost:8080/"
        },
        "outputId": "3878dc8e-78c4-40ed-bb4f-46fcf054b542"
      },
      "source": [
        "discount_factor"
      ],
      "execution_count": null,
      "outputs": [
        {
          "output_type": "execute_result",
          "data": {
            "text/plain": [
              "[1.0,\n",
              " 0.9615384615384615,\n",
              " 0.9245562130177514,\n",
              " 0.8889963586709148,\n",
              " 0.8548041910297257,\n",
              " 0.8219271067593517,\n",
              " 0.7903145257301458,\n",
              " 0.7599178132020632,\n",
              " 0.7306902050019839,\n",
              " 0.7025867355788306,\n",
              " 0.6755641688257986,\n",
              " 0.6495809315632679,\n",
              " 0.6245970495800652,\n",
              " 0.6005740861346781,\n",
              " 0.5774750828218058,\n",
              " 0.5552645027132749,\n",
              " 0.5339081756858411,\n",
              " 0.5133732458517704,\n",
              " 0.49362812101131764,\n",
              " 0.47464242404934387]"
            ]
          },
          "metadata": {
            "tags": []
          },
          "execution_count": 18
        }
      ]
    },
    {
      "cell_type": "code",
      "metadata": {
        "id": "u2i1dY-6lDEt"
      },
      "source": [
        "df = pd.DataFrame()\n",
        "df['Income'] = income\n",
        "df['Discount Factor'] = discount_factor"
      ],
      "execution_count": null,
      "outputs": []
    },
    {
      "cell_type": "code",
      "metadata": {
        "id": "K2M425kxtXwr",
        "colab": {
          "base_uri": "https://localhost:8080/",
          "height": 677
        },
        "outputId": "6bed8a41-230b-4385-bd64-5db2d9a67209"
      },
      "source": [
        "df"
      ],
      "execution_count": null,
      "outputs": [
        {
          "output_type": "execute_result",
          "data": {
            "text/html": [
              "<div>\n",
              "<style scoped>\n",
              "    .dataframe tbody tr th:only-of-type {\n",
              "        vertical-align: middle;\n",
              "    }\n",
              "\n",
              "    .dataframe tbody tr th {\n",
              "        vertical-align: top;\n",
              "    }\n",
              "\n",
              "    .dataframe thead th {\n",
              "        text-align: right;\n",
              "    }\n",
              "</style>\n",
              "<table border=\"1\" class=\"dataframe\">\n",
              "  <thead>\n",
              "    <tr style=\"text-align: right;\">\n",
              "      <th></th>\n",
              "      <th>Income</th>\n",
              "      <th>Discount Factor</th>\n",
              "    </tr>\n",
              "  </thead>\n",
              "  <tbody>\n",
              "    <tr>\n",
              "      <th>0</th>\n",
              "      <td>300.000000</td>\n",
              "      <td>1.000000</td>\n",
              "    </tr>\n",
              "    <tr>\n",
              "      <th>1</th>\n",
              "      <td>321.000000</td>\n",
              "      <td>0.961538</td>\n",
              "    </tr>\n",
              "    <tr>\n",
              "      <th>2</th>\n",
              "      <td>343.470000</td>\n",
              "      <td>0.924556</td>\n",
              "    </tr>\n",
              "    <tr>\n",
              "      <th>3</th>\n",
              "      <td>367.512900</td>\n",
              "      <td>0.888996</td>\n",
              "    </tr>\n",
              "    <tr>\n",
              "      <th>4</th>\n",
              "      <td>393.238803</td>\n",
              "      <td>0.854804</td>\n",
              "    </tr>\n",
              "    <tr>\n",
              "      <th>5</th>\n",
              "      <td>420.765519</td>\n",
              "      <td>0.821927</td>\n",
              "    </tr>\n",
              "    <tr>\n",
              "      <th>6</th>\n",
              "      <td>450.219106</td>\n",
              "      <td>0.790315</td>\n",
              "    </tr>\n",
              "    <tr>\n",
              "      <th>7</th>\n",
              "      <td>481.734443</td>\n",
              "      <td>0.759918</td>\n",
              "    </tr>\n",
              "    <tr>\n",
              "      <th>8</th>\n",
              "      <td>515.455854</td>\n",
              "      <td>0.730690</td>\n",
              "    </tr>\n",
              "    <tr>\n",
              "      <th>9</th>\n",
              "      <td>551.537764</td>\n",
              "      <td>0.702587</td>\n",
              "    </tr>\n",
              "    <tr>\n",
              "      <th>10</th>\n",
              "      <td>590.145407</td>\n",
              "      <td>0.675564</td>\n",
              "    </tr>\n",
              "    <tr>\n",
              "      <th>11</th>\n",
              "      <td>631.455586</td>\n",
              "      <td>0.649581</td>\n",
              "    </tr>\n",
              "    <tr>\n",
              "      <th>12</th>\n",
              "      <td>675.657477</td>\n",
              "      <td>0.624597</td>\n",
              "    </tr>\n",
              "    <tr>\n",
              "      <th>13</th>\n",
              "      <td>722.953500</td>\n",
              "      <td>0.600574</td>\n",
              "    </tr>\n",
              "    <tr>\n",
              "      <th>14</th>\n",
              "      <td>773.560245</td>\n",
              "      <td>0.577475</td>\n",
              "    </tr>\n",
              "    <tr>\n",
              "      <th>15</th>\n",
              "      <td>827.709462</td>\n",
              "      <td>0.555265</td>\n",
              "    </tr>\n",
              "    <tr>\n",
              "      <th>16</th>\n",
              "      <td>885.649125</td>\n",
              "      <td>0.533908</td>\n",
              "    </tr>\n",
              "    <tr>\n",
              "      <th>17</th>\n",
              "      <td>947.644563</td>\n",
              "      <td>0.513373</td>\n",
              "    </tr>\n",
              "    <tr>\n",
              "      <th>18</th>\n",
              "      <td>1013.979683</td>\n",
              "      <td>0.493628</td>\n",
              "    </tr>\n",
              "    <tr>\n",
              "      <th>19</th>\n",
              "      <td>1084.958261</td>\n",
              "      <td>0.474642</td>\n",
              "    </tr>\n",
              "  </tbody>\n",
              "</table>\n",
              "</div>"
            ],
            "text/plain": [
              "         Income  Discount Factor\n",
              "0    300.000000         1.000000\n",
              "1    321.000000         0.961538\n",
              "2    343.470000         0.924556\n",
              "3    367.512900         0.888996\n",
              "4    393.238803         0.854804\n",
              "5    420.765519         0.821927\n",
              "6    450.219106         0.790315\n",
              "7    481.734443         0.759918\n",
              "8    515.455854         0.730690\n",
              "9    551.537764         0.702587\n",
              "10   590.145407         0.675564\n",
              "11   631.455586         0.649581\n",
              "12   675.657477         0.624597\n",
              "13   722.953500         0.600574\n",
              "14   773.560245         0.577475\n",
              "15   827.709462         0.555265\n",
              "16   885.649125         0.533908\n",
              "17   947.644563         0.513373\n",
              "18  1013.979683         0.493628\n",
              "19  1084.958261         0.474642"
            ]
          },
          "metadata": {
            "tags": []
          },
          "execution_count": 21
        }
      ]
    },
    {
      "cell_type": "code",
      "metadata": {
        "id": "CQGeh3iqVSi6"
      },
      "source": [
        "df['Discounted Cashflow'] = df['Income'] * df['Discount Factor']"
      ],
      "execution_count": null,
      "outputs": []
    },
    {
      "cell_type": "code",
      "metadata": {
        "id": "EA-H-B0AVct1",
        "colab": {
          "base_uri": "https://localhost:8080/",
          "height": 677
        },
        "outputId": "659e7f34-5ea8-4304-903b-6c851dab42a3"
      },
      "source": [
        "df"
      ],
      "execution_count": null,
      "outputs": [
        {
          "output_type": "execute_result",
          "data": {
            "text/html": [
              "<div>\n",
              "<style scoped>\n",
              "    .dataframe tbody tr th:only-of-type {\n",
              "        vertical-align: middle;\n",
              "    }\n",
              "\n",
              "    .dataframe tbody tr th {\n",
              "        vertical-align: top;\n",
              "    }\n",
              "\n",
              "    .dataframe thead th {\n",
              "        text-align: right;\n",
              "    }\n",
              "</style>\n",
              "<table border=\"1\" class=\"dataframe\">\n",
              "  <thead>\n",
              "    <tr style=\"text-align: right;\">\n",
              "      <th></th>\n",
              "      <th>Income</th>\n",
              "      <th>Discount Factor</th>\n",
              "      <th>Discounted Cashflow</th>\n",
              "    </tr>\n",
              "  </thead>\n",
              "  <tbody>\n",
              "    <tr>\n",
              "      <th>0</th>\n",
              "      <td>300.000000</td>\n",
              "      <td>1.000000</td>\n",
              "      <td>300.000000</td>\n",
              "    </tr>\n",
              "    <tr>\n",
              "      <th>1</th>\n",
              "      <td>321.000000</td>\n",
              "      <td>0.961538</td>\n",
              "      <td>308.653846</td>\n",
              "    </tr>\n",
              "    <tr>\n",
              "      <th>2</th>\n",
              "      <td>343.470000</td>\n",
              "      <td>0.924556</td>\n",
              "      <td>317.557322</td>\n",
              "    </tr>\n",
              "    <tr>\n",
              "      <th>3</th>\n",
              "      <td>367.512900</td>\n",
              "      <td>0.888996</td>\n",
              "      <td>326.717630</td>\n",
              "    </tr>\n",
              "    <tr>\n",
              "      <th>4</th>\n",
              "      <td>393.238803</td>\n",
              "      <td>0.854804</td>\n",
              "      <td>336.142177</td>\n",
              "    </tr>\n",
              "    <tr>\n",
              "      <th>5</th>\n",
              "      <td>420.765519</td>\n",
              "      <td>0.821927</td>\n",
              "      <td>345.838586</td>\n",
              "    </tr>\n",
              "    <tr>\n",
              "      <th>6</th>\n",
              "      <td>450.219106</td>\n",
              "      <td>0.790315</td>\n",
              "      <td>355.814699</td>\n",
              "    </tr>\n",
              "    <tr>\n",
              "      <th>7</th>\n",
              "      <td>481.734443</td>\n",
              "      <td>0.759918</td>\n",
              "      <td>366.078584</td>\n",
              "    </tr>\n",
              "    <tr>\n",
              "      <th>8</th>\n",
              "      <td>515.455854</td>\n",
              "      <td>0.730690</td>\n",
              "      <td>376.638544</td>\n",
              "    </tr>\n",
              "    <tr>\n",
              "      <th>9</th>\n",
              "      <td>551.537764</td>\n",
              "      <td>0.702587</td>\n",
              "      <td>387.503117</td>\n",
              "    </tr>\n",
              "    <tr>\n",
              "      <th>10</th>\n",
              "      <td>590.145407</td>\n",
              "      <td>0.675564</td>\n",
              "      <td>398.681091</td>\n",
              "    </tr>\n",
              "    <tr>\n",
              "      <th>11</th>\n",
              "      <td>631.455586</td>\n",
              "      <td>0.649581</td>\n",
              "      <td>410.181508</td>\n",
              "    </tr>\n",
              "    <tr>\n",
              "      <th>12</th>\n",
              "      <td>675.657477</td>\n",
              "      <td>0.624597</td>\n",
              "      <td>422.013666</td>\n",
              "    </tr>\n",
              "    <tr>\n",
              "      <th>13</th>\n",
              "      <td>722.953500</td>\n",
              "      <td>0.600574</td>\n",
              "      <td>434.187138</td>\n",
              "    </tr>\n",
              "    <tr>\n",
              "      <th>14</th>\n",
              "      <td>773.560245</td>\n",
              "      <td>0.577475</td>\n",
              "      <td>446.711767</td>\n",
              "    </tr>\n",
              "    <tr>\n",
              "      <th>15</th>\n",
              "      <td>827.709462</td>\n",
              "      <td>0.555265</td>\n",
              "      <td>459.597683</td>\n",
              "    </tr>\n",
              "    <tr>\n",
              "      <th>16</th>\n",
              "      <td>885.649125</td>\n",
              "      <td>0.533908</td>\n",
              "      <td>472.855308</td>\n",
              "    </tr>\n",
              "    <tr>\n",
              "      <th>17</th>\n",
              "      <td>947.644563</td>\n",
              "      <td>0.513373</td>\n",
              "      <td>486.495365</td>\n",
              "    </tr>\n",
              "    <tr>\n",
              "      <th>18</th>\n",
              "      <td>1013.979683</td>\n",
              "      <td>0.493628</td>\n",
              "      <td>500.528886</td>\n",
              "    </tr>\n",
              "    <tr>\n",
              "      <th>19</th>\n",
              "      <td>1084.958261</td>\n",
              "      <td>0.474642</td>\n",
              "      <td>514.967219</td>\n",
              "    </tr>\n",
              "  </tbody>\n",
              "</table>\n",
              "</div>"
            ],
            "text/plain": [
              "         Income  Discount Factor  Discounted Cashflow\n",
              "0    300.000000         1.000000           300.000000\n",
              "1    321.000000         0.961538           308.653846\n",
              "2    343.470000         0.924556           317.557322\n",
              "3    367.512900         0.888996           326.717630\n",
              "4    393.238803         0.854804           336.142177\n",
              "5    420.765519         0.821927           345.838586\n",
              "6    450.219106         0.790315           355.814699\n",
              "7    481.734443         0.759918           366.078584\n",
              "8    515.455854         0.730690           376.638544\n",
              "9    551.537764         0.702587           387.503117\n",
              "10   590.145407         0.675564           398.681091\n",
              "11   631.455586         0.649581           410.181508\n",
              "12   675.657477         0.624597           422.013666\n",
              "13   722.953500         0.600574           434.187138\n",
              "14   773.560245         0.577475           446.711767\n",
              "15   827.709462         0.555265           459.597683\n",
              "16   885.649125         0.533908           472.855308\n",
              "17   947.644563         0.513373           486.495365\n",
              "18  1013.979683         0.493628           500.528886\n",
              "19  1084.958261         0.474642           514.967219"
            ]
          },
          "metadata": {
            "tags": []
          },
          "execution_count": 23
        }
      ]
    },
    {
      "cell_type": "code",
      "metadata": {
        "id": "ql4iTy0VVxvu",
        "colab": {
          "base_uri": "https://localhost:8080/"
        },
        "outputId": "859a150c-0d60-4108-b4c5-43e2d6b6d6a8"
      },
      "source": [
        "df['Discounted Cashflow'].sum()"
      ],
      "execution_count": null,
      "outputs": [
        {
          "output_type": "execute_result",
          "data": {
            "text/plain": [
              "7967.164135805237"
            ]
          },
          "metadata": {
            "tags": []
          },
          "execution_count": 24
        }
      ]
    },
    {
      "cell_type": "code",
      "metadata": {
        "id": "WKvVuTqdpeTo"
      },
      "source": [
        ""
      ],
      "execution_count": null,
      "outputs": []
    }
  ]
}