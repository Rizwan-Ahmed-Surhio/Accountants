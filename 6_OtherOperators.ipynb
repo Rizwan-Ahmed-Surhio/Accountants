{
  "nbformat": 4,
  "nbformat_minor": 0,
  "metadata": {
    "colab": {
      "name": "6_OtherOperators.ipynb",
      "provenance": [],
      "collapsed_sections": [],
      "authorship_tag": "ABX9TyN9z5xvb8mw74g+Z/3krJ6v",
      "include_colab_link": true
    },
    "kernelspec": {
      "name": "python3",
      "display_name": "Python 3"
    }
  },
  "cells": [
    {
      "cell_type": "markdown",
      "metadata": {
        "id": "view-in-github",
        "colab_type": "text"
      },
      "source": [
        "<a href=\"https://colab.research.google.com/github/Rizwan-Ahmed-Surhio/Accountants/blob/main/6_OtherOperators.ipynb\" target=\"_parent\"><img src=\"https://colab.research.google.com/assets/colab-badge.svg\" alt=\"Open In Colab\"/></a>"
      ]
    },
    {
      "cell_type": "markdown",
      "metadata": {
        "id": "UaVe3TYoRUJ2"
      },
      "source": [
        "# Logical Operators"
      ]
    },
    {
      "cell_type": "markdown",
      "metadata": {
        "id": "YPcPtWvFm4vK"
      },
      "source": [
        "### Buy if \n",
        "#### 1 - Sales Grwoth is 15% and above \n",
        "#### 2 - Net Profit Margin is 4% and above "
      ]
    },
    {
      "cell_type": "markdown",
      "metadata": {
        "id": "h61JjPGbooL4"
      },
      "source": [
        "## AND"
      ]
    },
    {
      "cell_type": "code",
      "metadata": {
        "id": "_CIjV-PARIva"
      },
      "source": [
        "ABC_sales_growth = 0.18\n",
        "ABC_net_margin = 0.05"
      ],
      "execution_count": null,
      "outputs": []
    },
    {
      "cell_type": "code",
      "metadata": {
        "id": "eO5mutRSZqpX"
      },
      "source": [
        "buy_decision = ABC_sales_growth >= 0.15 and ABC_net_margin >= 0.04"
      ],
      "execution_count": null,
      "outputs": []
    },
    {
      "cell_type": "code",
      "metadata": {
        "id": "l8KDHOCsaU5Q"
      },
      "source": [
        "print(buy_decision)"
      ],
      "execution_count": null,
      "outputs": []
    },
    {
      "cell_type": "code",
      "metadata": {
        "id": "nuFqb6DWaZmK"
      },
      "source": [
        "XYZ_sales_growth = 0.11\n",
        "XYZ_net_margin = 0.09"
      ],
      "execution_count": null,
      "outputs": []
    },
    {
      "cell_type": "code",
      "metadata": {
        "id": "npe0MXg4oROW"
      },
      "source": [
        "buy_decision = XYZ_sales_growth >= 0.15 and XYZ_net_margin >= 0.04"
      ],
      "execution_count": null,
      "outputs": []
    },
    {
      "cell_type": "code",
      "metadata": {
        "id": "UeqVcHLYoRyX"
      },
      "source": [
        "print(buy_decision)"
      ],
      "execution_count": null,
      "outputs": []
    },
    {
      "cell_type": "markdown",
      "metadata": {
        "id": "weL2YOGIorY1"
      },
      "source": [
        "## OR"
      ]
    },
    {
      "cell_type": "code",
      "metadata": {
        "id": "fSxuBwOBokro"
      },
      "source": [
        "buy_decision = XYZ_sales_growth >= 0.15  or  XYZ_net_margin >= 0.04"
      ],
      "execution_count": null,
      "outputs": []
    },
    {
      "cell_type": "code",
      "metadata": {
        "id": "FnXLWzCSok8N"
      },
      "source": [
        "print(buy_decision)"
      ],
      "execution_count": null,
      "outputs": []
    },
    {
      "cell_type": "markdown",
      "metadata": {
        "id": "a9TRezpko29E"
      },
      "source": [
        "## NOT"
      ]
    },
    {
      "cell_type": "code",
      "metadata": {
        "id": "FiZ2q6pfo44c"
      },
      "source": [
        "buy_decision = not(XYZ_sales_growth >= 0.15  or  XYZ_net_margin >= 0.04 )"
      ],
      "execution_count": null,
      "outputs": []
    },
    {
      "cell_type": "code",
      "metadata": {
        "id": "mGnaQI0SpRYa"
      },
      "source": [
        "print(buy_decision)"
      ],
      "execution_count": null,
      "outputs": []
    },
    {
      "cell_type": "code",
      "metadata": {
        "id": "MrGxQYpmRh34"
      },
      "source": [
        ""
      ],
      "execution_count": null,
      "outputs": []
    }
  ]
}