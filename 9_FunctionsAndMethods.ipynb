{
  "nbformat": 4,
  "nbformat_minor": 0,
  "metadata": {
    "colab": {
      "name": "9_FunctionsAndMethods.ipynb",
      "provenance": [],
      "collapsed_sections": [],
      "authorship_tag": "ABX9TyOu/aEYQRVmjuIRXxNzd6Cy",
      "include_colab_link": true
    },
    "kernelspec": {
      "name": "python3",
      "display_name": "Python 3"
    }
  },
  "cells": [
    {
      "cell_type": "markdown",
      "metadata": {
        "id": "view-in-github",
        "colab_type": "text"
      },
      "source": [
        "<a href=\"https://colab.research.google.com/github/Rizwan-Ahmed-Surhio/Accountants/blob/main/9_FunctionsAndMethods.ipynb\" target=\"_parent\"><img src=\"https://colab.research.google.com/assets/colab-badge.svg\" alt=\"Open In Colab\"/></a>"
      ]
    },
    {
      "cell_type": "markdown",
      "metadata": {
        "id": "uVpnvbZIFloQ"
      },
      "source": [
        "# Functions and Methods\n",
        "\n",
        "### 1. Functions:  print(), sum(), type() \n",
        "### 2. Operators:  +, -, ** \n",
        "### 3. Methods:  upper(), lower() , title() "
      ]
    },
    {
      "cell_type": "markdown",
      "metadata": {
        "id": "cM8SgPbhCOKM"
      },
      "source": [
        "### Sum Function"
      ]
    },
    {
      "cell_type": "code",
      "metadata": {
        "id": "g2fu-BPiFhv-"
      },
      "source": [
        "sales = (4000, 4500)\n",
        "sum(sales)"
      ],
      "execution_count": null,
      "outputs": []
    },
    {
      "cell_type": "markdown",
      "metadata": {
        "id": "fLFs2bX7CVEr"
      },
      "source": [
        "### Plus Operator"
      ]
    },
    {
      "cell_type": "code",
      "metadata": {
        "id": "qrZ-qt-rGxjf"
      },
      "source": [
        "4000 + 4500"
      ],
      "execution_count": null,
      "outputs": []
    },
    {
      "cell_type": "markdown",
      "metadata": {
        "id": "0choGqNAQOKF"
      },
      "source": [
        "### Methods"
      ]
    },
    {
      "cell_type": "code",
      "metadata": {
        "id": "2vKAMJg6JZNz"
      },
      "source": [
        "names = (\"My Name is Rizwan\", \"Your Name is Smith\")\n",
        "sum(names)"
      ],
      "execution_count": null,
      "outputs": []
    },
    {
      "cell_type": "code",
      "metadata": {
        "id": "OJUvrRp7JiN1"
      },
      "source": [
        "print(\"income statement for the year ending 31 december 2020\".title())"
      ],
      "execution_count": null,
      "outputs": []
    },
    {
      "cell_type": "code",
      "metadata": {
        "id": "uZOH5obrLILb"
      },
      "source": [
        "print(\"income statement for the year ending 31 december 2020\".upper())"
      ],
      "execution_count": null,
      "outputs": []
    },
    {
      "cell_type": "code",
      "metadata": {
        "id": "edOjlbEuNgTb"
      },
      "source": [
        "print(\"income statement for the year ending 31 december 2020\".count('a'))"
      ],
      "execution_count": null,
      "outputs": []
    },
    {
      "cell_type": "code",
      "metadata": {
        "id": "Z-3h-XGHTYkS"
      },
      "source": [
        "print(\"income statement for the year ending 31 december 2020\".find(\"o\"))"
      ],
      "execution_count": null,
      "outputs": []
    },
    {
      "cell_type": "code",
      "metadata": {
        "id": "jDqRxvXpupbg"
      },
      "source": [
        ""
      ],
      "execution_count": null,
      "outputs": []
    }
  ]
}