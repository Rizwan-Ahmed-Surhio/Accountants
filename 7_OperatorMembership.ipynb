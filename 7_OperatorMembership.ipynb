{
  "nbformat": 4,
  "nbformat_minor": 0,
  "metadata": {
    "colab": {
      "name": "7_OperatorMembership.ipynb",
      "provenance": [],
      "collapsed_sections": [],
      "authorship_tag": "ABX9TyPu0OLpFeMabYocfQysIHES",
      "include_colab_link": true
    },
    "kernelspec": {
      "name": "python3",
      "display_name": "Python 3"
    }
  },
  "cells": [
    {
      "cell_type": "markdown",
      "metadata": {
        "id": "view-in-github",
        "colab_type": "text"
      },
      "source": [
        "<a href=\"https://colab.research.google.com/github/Rizwan-Ahmed-Surhio/Accountants/blob/main/7_OperatorMembership.ipynb\" target=\"_parent\"><img src=\"https://colab.research.google.com/assets/colab-badge.svg\" alt=\"Open In Colab\"/></a>"
      ]
    },
    {
      "cell_type": "markdown",
      "metadata": {
        "id": "g_qmy1BdZjN-"
      },
      "source": [
        "# Membership Operators (IN , NOT IN)"
      ]
    },
    {
      "cell_type": "code",
      "metadata": {
        "id": "equ8Sq-jP8L9"
      },
      "source": [
        "invoices =  {\"AB1\": 1200,\n",
        "             \"AB2\": 1400,\n",
        "             \"AB3\": 400}"
      ],
      "execution_count": null,
      "outputs": []
    },
    {
      "cell_type": "code",
      "metadata": {
        "id": "1aP0UKd-QR78"
      },
      "source": [
        "\"AB3\" in invoices"
      ],
      "execution_count": null,
      "outputs": []
    },
    {
      "cell_type": "code",
      "metadata": {
        "id": "mGHpkS5kQVbr"
      },
      "source": [
        "invoices[\"AB3\"]"
      ],
      "execution_count": null,
      "outputs": []
    },
    {
      "cell_type": "code",
      "metadata": {
        "id": "qDaci1peTIdm"
      },
      "source": [
        "\"AB4\" in invoices"
      ],
      "execution_count": null,
      "outputs": []
    },
    {
      "cell_type": "code",
      "metadata": {
        "id": "70kjHhuRR1u3"
      },
      "source": [
        "\"AB4\" not in invoices"
      ],
      "execution_count": null,
      "outputs": []
    },
    {
      "cell_type": "code",
      "metadata": {
        "id": "SGR-cq3cWSyw"
      },
      "source": [
        ""
      ],
      "execution_count": null,
      "outputs": []
    }
  ]
}