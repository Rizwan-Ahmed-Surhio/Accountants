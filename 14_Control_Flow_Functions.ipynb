{
  "nbformat": 4,
  "nbformat_minor": 0,
  "metadata": {
    "colab": {
      "name": "14_Control Flow - Functions.ipynb",
      "provenance": [],
      "collapsed_sections": [],
      "authorship_tag": "ABX9TyPhpufAqljBuYxl2653W0Vj",
      "include_colab_link": true
    },
    "kernelspec": {
      "name": "python3",
      "display_name": "Python 3"
    },
    "language_info": {
      "name": "python"
    }
  },
  "cells": [
    {
      "cell_type": "markdown",
      "metadata": {
        "id": "view-in-github",
        "colab_type": "text"
      },
      "source": [
        "<a href=\"https://colab.research.google.com/github/Rizwan-Ahmed-Surhio/Accountants/blob/main/14_Control_Flow_Functions.ipynb\" target=\"_parent\"><img src=\"https://colab.research.google.com/assets/colab-badge.svg\" alt=\"Open In Colab\"/></a>"
      ]
    },
    {
      "cell_type": "code",
      "metadata": {
        "id": "ZXmS6C1X9Wge"
      },
      "source": [
        "!pip install yahoo_fin"
      ],
      "execution_count": null,
      "outputs": []
    },
    {
      "cell_type": "code",
      "metadata": {
        "id": "uf3Ml2Ws9KXX"
      },
      "source": [
        "import yahoo_fin.stock_info as si\n",
        "import pandas"
      ],
      "execution_count": 22,
      "outputs": []
    },
    {
      "cell_type": "code",
      "metadata": {
        "id": "HKFZzD7RI1R-"
      },
      "source": [
        "url = 'https://raw.githubusercontent.com/Rizwan-Ahmed-Surhio/Accountants/main/5000%20Sales%20Records.csv'\n",
        "df = pandas.read_csv(url)"
      ],
      "execution_count": 3,
      "outputs": []
    },
    {
      "cell_type": "code",
      "metadata": {
        "id": "bcZmciiZI_yE"
      },
      "source": [
        "df"
      ],
      "execution_count": null,
      "outputs": []
    },
    {
      "cell_type": "code",
      "metadata": {
        "id": "wmqwzMcdJhwV"
      },
      "source": [
        "df['Item Type'].unique()"
      ],
      "execution_count": null,
      "outputs": []
    },
    {
      "cell_type": "code",
      "metadata": {
        "id": "8Imx9VUNJ0i8"
      },
      "source": [
        "len(df['Item Type'].unique())"
      ],
      "execution_count": null,
      "outputs": []
    },
    {
      "cell_type": "code",
      "metadata": {
        "id": "dzzY_irDJrLG"
      },
      "source": [
        "Cereal= df.loc[df['Item Type'] == \"Cereal\"]"
      ],
      "execution_count": 7,
      "outputs": []
    },
    {
      "cell_type": "code",
      "metadata": {
        "id": "NzFZXSTpNeEf"
      },
      "source": [
        "Cereal"
      ],
      "execution_count": null,
      "outputs": []
    },
    {
      "cell_type": "code",
      "metadata": {
        "id": "eOM9K3lQJzAT"
      },
      "source": [
        "profit_margin = (Cereal['Total Profit'].sum() / Cereal['Total Revenue'].sum() * 100)"
      ],
      "execution_count": 9,
      "outputs": []
    },
    {
      "cell_type": "code",
      "metadata": {
        "id": "xpKvUQyAKoDM"
      },
      "source": [
        "profit_margin"
      ],
      "execution_count": null,
      "outputs": []
    },
    {
      "cell_type": "code",
      "metadata": {
        "id": "AxGeEC8_S6lr"
      },
      "source": [
        "profit_margin = round(profit_margin,2)\n",
        "profit_margin"
      ],
      "execution_count": null,
      "outputs": []
    },
    {
      "cell_type": "markdown",
      "metadata": {
        "id": "F1doAvKsjQjx"
      },
      "source": [
        "### Define/Write a Function"
      ]
    },
    {
      "cell_type": "code",
      "metadata": {
        "id": "T7vkzyqNMKbt"
      },
      "source": [
        "def profit_margin(product):\n",
        "  seleted_product= df.loc[df['Item Type'] == product]\n",
        "  profit_margin = round(seleted_product['Total Profit'].sum() / seleted_product['Total Revenue'].sum() * 100,3)\n",
        "  return profit_margin\n"
      ],
      "execution_count": 12,
      "outputs": []
    },
    {
      "cell_type": "code",
      "metadata": {
        "id": "AWf4I0rdMrQt"
      },
      "source": [
        "profit_margin(\"Clothes\")"
      ],
      "execution_count": null,
      "outputs": []
    },
    {
      "cell_type": "code",
      "metadata": {
        "id": "DCGochr2fO-N"
      },
      "source": [
        "# Baby Food\"\n",
        "profit_margin(\"Baby Food\")"
      ],
      "execution_count": null,
      "outputs": []
    },
    {
      "cell_type": "code",
      "metadata": {
        "id": "kHmjmKNPVyYQ"
      },
      "source": [
        "cereal = profit_margin(\"Cereal\")"
      ],
      "execution_count": 15,
      "outputs": []
    },
    {
      "cell_type": "code",
      "metadata": {
        "id": "8e9TBVd-WFNA"
      },
      "source": [
        "cereal"
      ],
      "execution_count": null,
      "outputs": []
    },
    {
      "cell_type": "markdown",
      "metadata": {
        "id": "W_SnhuxziQde"
      },
      "source": [
        "### Variable Scope"
      ]
    },
    {
      "cell_type": "code",
      "metadata": {
        "id": "FbZERwCGfPkz",
        "colab": {
          "base_uri": "https://localhost:8080/",
          "height": 172
        },
        "outputId": "0a75ac05-c820-4896-ed91-c9d031b0e49c"
      },
      "source": [
        "seleted_product"
      ],
      "execution_count": 17,
      "outputs": [
        {
          "output_type": "error",
          "ename": "NameError",
          "evalue": "ignored",
          "traceback": [
            "\u001b[0;31m---------------------------------------------------------------------------\u001b[0m",
            "\u001b[0;31mNameError\u001b[0m                                 Traceback (most recent call last)",
            "\u001b[0;32m<ipython-input-17-178aa96cc746>\u001b[0m in \u001b[0;36m<module>\u001b[0;34m()\u001b[0m\n\u001b[0;32m----> 1\u001b[0;31m \u001b[0mseleted_product\u001b[0m\u001b[0;34m\u001b[0m\u001b[0;34m\u001b[0m\u001b[0m\n\u001b[0m",
            "\u001b[0;31mNameError\u001b[0m: name 'seleted_product' is not defined"
          ]
        }
      ]
    },
    {
      "cell_type": "code",
      "metadata": {
        "id": "dBCa_LhCiTFx"
      },
      "source": [
        "\n",
        "word = \"Apple Inc.\"\n",
        "\n",
        "def some_function():\n",
        "    print(word)\n",
        "\n",
        "some_function()"
      ],
      "execution_count": null,
      "outputs": []
    },
    {
      "cell_type": "code",
      "metadata": {
        "id": "D4-L7uNXiTe8"
      },
      "source": [
        ""
      ],
      "execution_count": 18,
      "outputs": []
    },
    {
      "cell_type": "code",
      "metadata": {
        "id": "0nfL2t-79tyL"
      },
      "source": [
        "tickers = ['msft', 'aapl', 'TSLA', 'wow.ax', 'BARC.L', 'NAB.AX']\n",
        "target = {}\n",
        "price = {}\n",
        "for i in tickers:\n",
        "  price[i] = si.get_quote_table(i)['Quote Price']\n",
        "  target[i] = si.get_quote_table(i)['1y Target Est']\n",
        "\n",
        "stocks = pandas.DataFrame(list(price.items()),columns = ['Symbol','Price'])\n",
        "\n",
        "\n",
        "stocks\n"
      ],
      "execution_count": null,
      "outputs": []
    },
    {
      "cell_type": "code",
      "metadata": {
        "id": "LaLBC4cpAP7S"
      },
      "source": [
        "msft = si.get_quote_table('msft')"
      ],
      "execution_count": 25,
      "outputs": []
    },
    {
      "cell_type": "code",
      "metadata": {
        "id": "9jZ6mQ1DCp8-"
      },
      "source": [
        "msft"
      ],
      "execution_count": null,
      "outputs": []
    },
    {
      "cell_type": "code",
      "metadata": {
        "colab": {
          "base_uri": "https://localhost:8080/"
        },
        "id": "7G-1oI51Cbsp",
        "outputId": "396be125-e3ad-42ea-f385-2f33800bf4c7"
      },
      "source": [
        "gain= ((msft['1y Target Est']- msft['Quote Price'])/ msft['Quote Price']) *100\n",
        "gain"
      ],
      "execution_count": 27,
      "outputs": [
        {
          "output_type": "execute_result",
          "data": {
            "text/plain": [
              "14.64033959731512"
            ]
          },
          "metadata": {
            "tags": []
          },
          "execution_count": 27
        }
      ]
    },
    {
      "cell_type": "code",
      "metadata": {
        "id": "Md8LIOm8DBGu"
      },
      "source": [
        "## Expected gain function\n",
        "def gain(ticker):\n",
        "  data = si.get_quote_table(ticker)\n",
        "  gain= round(((data['1y Target Est']- data['Quote Price'])/ data['Quote Price']) *100,2)\n",
        "  gain = print(\"Expected gain on {} in one year : {}%\".format(ticker,gain))\n",
        "  return gain\n",
        "\n"
      ],
      "execution_count": 28,
      "outputs": []
    },
    {
      "cell_type": "code",
      "metadata": {
        "colab": {
          "base_uri": "https://localhost:8080/"
        },
        "id": "u-E-6knMAZW3",
        "outputId": "ad5980bf-9d74-4ceb-f38d-87d22a517031"
      },
      "source": [
        "gain('wow.ax')"
      ],
      "execution_count": 30,
      "outputs": [
        {
          "output_type": "stream",
          "text": [
            "Expected gain on wow.ax in one year : -24.56%\n"
          ],
          "name": "stdout"
        }
      ]
    }
  ]
}