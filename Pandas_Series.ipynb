{
  "nbformat": 4,
  "nbformat_minor": 0,
  "metadata": {
    "colab": {
      "name": "Pandas_Series.ipynb",
      "provenance": [],
      "collapsed_sections": [],
      "authorship_tag": "ABX9TyODA0GHCU6WLnqOoy+5dF5X",
      "include_colab_link": true
    },
    "kernelspec": {
      "name": "python3",
      "display_name": "Python 3"
    },
    "language_info": {
      "name": "python"
    }
  },
  "cells": [
    {
      "cell_type": "markdown",
      "metadata": {
        "id": "view-in-github",
        "colab_type": "text"
      },
      "source": [
        "<a href=\"https://colab.research.google.com/github/Rizwan-Ahmed-Surhio/Accountants/blob/main/Pandas_Series.ipynb\" target=\"_parent\"><img src=\"https://colab.research.google.com/assets/colab-badge.svg\" alt=\"Open In Colab\"/></a>"
      ]
    },
    {
      "cell_type": "code",
      "metadata": {
        "id": "3s5m5orWz-Fi"
      },
      "source": [
        "import numpy as np\n",
        "import pandas as pd"
      ],
      "execution_count": null,
      "outputs": []
    },
    {
      "cell_type": "code",
      "metadata": {
        "id": "v6gbpYMuXdFp"
      },
      "source": [
        "sales_numbers_series = pd.Series([3500,4600,13750,860,2550,11450])"
      ],
      "execution_count": null,
      "outputs": []
    },
    {
      "cell_type": "code",
      "metadata": {
        "colab": {
          "base_uri": "https://localhost:8080/"
        },
        "id": "rQonMpMiXlK_",
        "outputId": "69412bca-64b5-4da1-b5ec-a72257b2768b"
      },
      "source": [
        "sales_numbers_series.describe()"
      ],
      "execution_count": null,
      "outputs": [
        {
          "output_type": "execute_result",
          "data": {
            "text/plain": [
              "count        6.000000\n",
              "mean      6118.333333\n",
              "std       5219.446011\n",
              "min        860.000000\n",
              "25%       2787.500000\n",
              "50%       4050.000000\n",
              "75%       9737.500000\n",
              "max      13750.000000\n",
              "dtype: float64"
            ]
          },
          "metadata": {
            "tags": []
          },
          "execution_count": 8
        }
      ]
    },
    {
      "cell_type": "code",
      "metadata": {
        "id": "g2BLKe6B1FMo"
      },
      "source": [
        "sales_Array  = np.array([3500,4600,13750,860,2550,11450])\n",
        "sales_Series = pd.Series([3500,4600,13750,860,2550,11450])"
      ],
      "execution_count": null,
      "outputs": []
    },
    {
      "cell_type": "code",
      "metadata": {
        "id": "mTSa_Cxg2UNz",
        "colab": {
          "base_uri": "https://localhost:8080/"
        },
        "outputId": "e5d0af41-ad7f-4d05-de43-adbd7f3a5ba9"
      },
      "source": [
        "print(type(sales_Array),type(sales_Series))"
      ],
      "execution_count": null,
      "outputs": [
        {
          "output_type": "stream",
          "text": [
            "<class 'numpy.ndarray'> <class 'pandas.core.series.Series'>\n"
          ],
          "name": "stdout"
        }
      ]
    },
    {
      "cell_type": "code",
      "metadata": {
        "id": "XaRqFCu4XTpq",
        "colab": {
          "base_uri": "https://localhost:8080/"
        },
        "outputId": "ddb340bd-7d6a-432e-dbf1-2757638aef41"
      },
      "source": [
        "sales_Series"
      ],
      "execution_count": null,
      "outputs": [
        {
          "output_type": "execute_result",
          "data": {
            "text/plain": [
              "0     3500\n",
              "1     4600\n",
              "2    13750\n",
              "3      860\n",
              "4     2550\n",
              "5    11450\n",
              "dtype: int64"
            ]
          },
          "metadata": {
            "tags": []
          },
          "execution_count": 5
        }
      ]
    },
    {
      "cell_type": "code",
      "metadata": {
        "id": "Fv0Lh38V2Xuw"
      },
      "source": [
        "sales_list = [3500,4600,13750,860,2550,11450]"
      ],
      "execution_count": null,
      "outputs": []
    },
    {
      "cell_type": "code",
      "metadata": {
        "id": "1UY7V0WI2rGk",
        "colab": {
          "base_uri": "https://localhost:8080/"
        },
        "outputId": "855948f7-0819-447e-a877-abef7e9c64f3"
      },
      "source": [
        "print(type(sales_list))"
      ],
      "execution_count": null,
      "outputs": [
        {
          "output_type": "stream",
          "text": [
            "<class 'list'>\n"
          ],
          "name": "stdout"
        }
      ]
    },
    {
      "cell_type": "code",
      "metadata": {
        "id": "wUq4vPfC2tj0"
      },
      "source": [
        "sales_Series2 = pd.Series(sales_list)"
      ],
      "execution_count": null,
      "outputs": []
    },
    {
      "cell_type": "code",
      "metadata": {
        "id": "QwY1zEdW22BI",
        "colab": {
          "base_uri": "https://localhost:8080/"
        },
        "outputId": "74ad24a1-fc62-40f9-d0d2-4e52c7df598f"
      },
      "source": [
        "print(type(sales_Series2))"
      ],
      "execution_count": null,
      "outputs": [
        {
          "output_type": "stream",
          "text": [
            "<class 'pandas.core.series.Series'>\n"
          ],
          "name": "stdout"
        }
      ]
    },
    {
      "cell_type": "code",
      "metadata": {
        "id": "epxsI17j3U_B"
      },
      "source": [
        "sales_Array2 = np.array(sales_list)"
      ],
      "execution_count": null,
      "outputs": []
    },
    {
      "cell_type": "code",
      "metadata": {
        "id": "-ifC7H2w3bBP",
        "colab": {
          "base_uri": "https://localhost:8080/"
        },
        "outputId": "d5c088e4-1188-4d7d-d5b6-14743ee800d9"
      },
      "source": [
        "print(type(sales_Array2))"
      ],
      "execution_count": null,
      "outputs": [
        {
          "output_type": "stream",
          "text": [
            "<class 'numpy.ndarray'>\n"
          ],
          "name": "stdout"
        }
      ]
    },
    {
      "cell_type": "markdown",
      "metadata": {
        "id": "vGpsbM2TCeYn"
      },
      "source": [
        "Describe function is not available to arrays"
      ]
    },
    {
      "cell_type": "code",
      "metadata": {
        "id": "zETvIJYo3ixi"
      },
      "source": [
        "sales_Array.describe()"
      ],
      "execution_count": null,
      "outputs": []
    },
    {
      "cell_type": "code",
      "metadata": {
        "id": "2FhQusnZCWon"
      },
      "source": [
        "sales_Series.describe()"
      ],
      "execution_count": null,
      "outputs": []
    },
    {
      "cell_type": "markdown",
      "metadata": {
        "id": "Eetb_uQ-DrWZ"
      },
      "source": [
        "#### Series Index, there is no index in array\n"
      ]
    },
    {
      "cell_type": "code",
      "metadata": {
        "id": "FGfPGcrqCbeZ",
        "colab": {
          "base_uri": "https://localhost:8080/"
        },
        "outputId": "a7504314-ed17-4f9f-f224-7dc987fe9f2c"
      },
      "source": [
        "print(sales_Array)"
      ],
      "execution_count": null,
      "outputs": [
        {
          "output_type": "stream",
          "text": [
            "[ 3500  4600 13750   860  2550 11450]\n"
          ],
          "name": "stdout"
        }
      ]
    },
    {
      "cell_type": "code",
      "metadata": {
        "id": "1NdvrJCAEkGa",
        "colab": {
          "base_uri": "https://localhost:8080/"
        },
        "outputId": "9bae0be7-3100-4053-c33c-54fce995229b"
      },
      "source": [
        "print(sales_Series)"
      ],
      "execution_count": null,
      "outputs": [
        {
          "output_type": "stream",
          "text": [
            "0     3500\n",
            "1     4600\n",
            "2    13750\n",
            "3      860\n",
            "4     2550\n",
            "5    11450\n",
            "dtype: int64\n"
          ],
          "name": "stdout"
        }
      ]
    },
    {
      "cell_type": "code",
      "metadata": {
        "id": "DW-V2ZYHEl6y"
      },
      "source": [
        "sales_Array  = np.array([3500,4600,13750,860,2550,11450])\n",
        "Product_Names_Array = np.array(['Baby Food','Cereal','Snacks', 'Beverages','Clothes','Personal Care'])\n"
      ],
      "execution_count": null,
      "outputs": []
    },
    {
      "cell_type": "code",
      "metadata": {
        "id": "BahwVWVbIVml",
        "colab": {
          "base_uri": "https://localhost:8080/"
        },
        "outputId": "bd5e5bf6-cc44-485e-e2f1-e760e17616b8"
      },
      "source": [
        "print(sales_Array, Product_Names_Array )"
      ],
      "execution_count": null,
      "outputs": [
        {
          "output_type": "stream",
          "text": [
            "[ 3500  4600 13750   860  2550 11450] ['Baby Food' 'Cereal' 'Snacks' 'Beverages' 'Clothes' 'Personal Care']\n"
          ],
          "name": "stdout"
        }
      ]
    },
    {
      "cell_type": "code",
      "metadata": {
        "id": "iRRmJE8nH-VQ"
      },
      "source": [
        "sales_Series = pd.Series([3500,4600,13750,860,2550,11450], index = ['Baby Food','Cereal','Snacks', 'Beverages','Clothes','Personal Care'] )"
      ],
      "execution_count": null,
      "outputs": []
    },
    {
      "cell_type": "code",
      "metadata": {
        "id": "-VAUGZkdJ0da",
        "colab": {
          "base_uri": "https://localhost:8080/"
        },
        "outputId": "4d3a906d-3fa1-4883-ca14-596fa363f782"
      },
      "source": [
        "sales_Series"
      ],
      "execution_count": null,
      "outputs": [
        {
          "output_type": "execute_result",
          "data": {
            "text/plain": [
              "Baby Food         3500\n",
              "Cereal            4600\n",
              "Snacks           13750\n",
              "Beverages          860\n",
              "Clothes           2550\n",
              "Personal Care    11450\n",
              "dtype: int64"
            ]
          },
          "metadata": {
            "tags": []
          },
          "execution_count": 25
        }
      ]
    },
    {
      "cell_type": "code",
      "metadata": {
        "id": "FnQfEFBqKRgi",
        "colab": {
          "base_uri": "https://localhost:8080/"
        },
        "outputId": "a7e3dedf-b39e-4471-cdf7-168e35e6672b"
      },
      "source": [
        "sales_Series[0]"
      ],
      "execution_count": null,
      "outputs": [
        {
          "output_type": "execute_result",
          "data": {
            "text/plain": [
              "3500"
            ]
          },
          "metadata": {
            "tags": []
          },
          "execution_count": 26
        }
      ]
    },
    {
      "cell_type": "code",
      "metadata": {
        "id": "7jvKjjnbKUF_",
        "colab": {
          "base_uri": "https://localhost:8080/"
        },
        "outputId": "c3cca7a8-d380-4682-db86-26951753903b"
      },
      "source": [
        "sales_Series.loc['Baby Food']"
      ],
      "execution_count": null,
      "outputs": [
        {
          "output_type": "execute_result",
          "data": {
            "text/plain": [
              "3500"
            ]
          },
          "metadata": {
            "tags": []
          },
          "execution_count": 27
        }
      ]
    },
    {
      "cell_type": "code",
      "metadata": {
        "id": "K_unUFrbKryq"
      },
      "source": [
        "url = 'https://raw.githubusercontent.com/Rizwan-Ahmed-Surhio/Accountants/main/5000%20Sales%20Records.csv'\n",
        "df = pd.read_csv(url)"
      ],
      "execution_count": null,
      "outputs": []
    },
    {
      "cell_type": "code",
      "metadata": {
        "colab": {
          "base_uri": "https://localhost:8080/",
          "height": 476
        },
        "id": "gwNXLlpPUXDU",
        "outputId": "b1eefac5-ddd1-47c8-8b44-41a970259a43"
      },
      "source": [
        "df"
      ],
      "execution_count": null,
      "outputs": [
        {
          "output_type": "execute_result",
          "data": {
            "text/html": [
              "<div>\n",
              "<style scoped>\n",
              "    .dataframe tbody tr th:only-of-type {\n",
              "        vertical-align: middle;\n",
              "    }\n",
              "\n",
              "    .dataframe tbody tr th {\n",
              "        vertical-align: top;\n",
              "    }\n",
              "\n",
              "    .dataframe thead th {\n",
              "        text-align: right;\n",
              "    }\n",
              "</style>\n",
              "<table border=\"1\" class=\"dataframe\">\n",
              "  <thead>\n",
              "    <tr style=\"text-align: right;\">\n",
              "      <th></th>\n",
              "      <th>Region</th>\n",
              "      <th>Country</th>\n",
              "      <th>Item Type</th>\n",
              "      <th>Sales Channel</th>\n",
              "      <th>Order Priority</th>\n",
              "      <th>Order Date</th>\n",
              "      <th>Order ID</th>\n",
              "      <th>Ship Date</th>\n",
              "      <th>Units Sold</th>\n",
              "      <th>Unit Price</th>\n",
              "      <th>Unit Cost</th>\n",
              "      <th>Total Revenue</th>\n",
              "      <th>Total Cost</th>\n",
              "      <th>Total Profit</th>\n",
              "    </tr>\n",
              "  </thead>\n",
              "  <tbody>\n",
              "    <tr>\n",
              "      <th>0</th>\n",
              "      <td>Central America and the Caribbean</td>\n",
              "      <td>Antigua and Barbuda</td>\n",
              "      <td>Baby Food</td>\n",
              "      <td>Online</td>\n",
              "      <td>M</td>\n",
              "      <td>12/20/2013</td>\n",
              "      <td>957081544</td>\n",
              "      <td>1/11/2014</td>\n",
              "      <td>552</td>\n",
              "      <td>255.28</td>\n",
              "      <td>159.42</td>\n",
              "      <td>140914.56</td>\n",
              "      <td>87999.84</td>\n",
              "      <td>52914.72</td>\n",
              "    </tr>\n",
              "    <tr>\n",
              "      <th>1</th>\n",
              "      <td>Central America and the Caribbean</td>\n",
              "      <td>Panama</td>\n",
              "      <td>Snacks</td>\n",
              "      <td>Offline</td>\n",
              "      <td>C</td>\n",
              "      <td>7/5/2010</td>\n",
              "      <td>301644504</td>\n",
              "      <td>7/26/2010</td>\n",
              "      <td>2167</td>\n",
              "      <td>152.58</td>\n",
              "      <td>97.44</td>\n",
              "      <td>330640.86</td>\n",
              "      <td>211152.48</td>\n",
              "      <td>119488.38</td>\n",
              "    </tr>\n",
              "    <tr>\n",
              "      <th>2</th>\n",
              "      <td>Europe</td>\n",
              "      <td>Czech Republic</td>\n",
              "      <td>Beverages</td>\n",
              "      <td>Offline</td>\n",
              "      <td>C</td>\n",
              "      <td>9/12/2011</td>\n",
              "      <td>478051030</td>\n",
              "      <td>9/29/2011</td>\n",
              "      <td>4778</td>\n",
              "      <td>47.45</td>\n",
              "      <td>31.79</td>\n",
              "      <td>226716.10</td>\n",
              "      <td>151892.62</td>\n",
              "      <td>74823.48</td>\n",
              "    </tr>\n",
              "    <tr>\n",
              "      <th>3</th>\n",
              "      <td>Asia</td>\n",
              "      <td>North Korea</td>\n",
              "      <td>Cereal</td>\n",
              "      <td>Offline</td>\n",
              "      <td>L</td>\n",
              "      <td>5/13/2010</td>\n",
              "      <td>892599952</td>\n",
              "      <td>6/15/2010</td>\n",
              "      <td>9016</td>\n",
              "      <td>205.70</td>\n",
              "      <td>117.11</td>\n",
              "      <td>1854591.20</td>\n",
              "      <td>1055863.76</td>\n",
              "      <td>798727.44</td>\n",
              "    </tr>\n",
              "    <tr>\n",
              "      <th>4</th>\n",
              "      <td>Asia</td>\n",
              "      <td>Sri Lanka</td>\n",
              "      <td>Snacks</td>\n",
              "      <td>Offline</td>\n",
              "      <td>C</td>\n",
              "      <td>7/20/2015</td>\n",
              "      <td>571902596</td>\n",
              "      <td>7/27/2015</td>\n",
              "      <td>7542</td>\n",
              "      <td>152.58</td>\n",
              "      <td>97.44</td>\n",
              "      <td>1150758.36</td>\n",
              "      <td>734892.48</td>\n",
              "      <td>415865.88</td>\n",
              "    </tr>\n",
              "    <tr>\n",
              "      <th>...</th>\n",
              "      <td>...</td>\n",
              "      <td>...</td>\n",
              "      <td>...</td>\n",
              "      <td>...</td>\n",
              "      <td>...</td>\n",
              "      <td>...</td>\n",
              "      <td>...</td>\n",
              "      <td>...</td>\n",
              "      <td>...</td>\n",
              "      <td>...</td>\n",
              "      <td>...</td>\n",
              "      <td>...</td>\n",
              "      <td>...</td>\n",
              "      <td>...</td>\n",
              "    </tr>\n",
              "    <tr>\n",
              "      <th>4995</th>\n",
              "      <td>Australia and Oceania</td>\n",
              "      <td>New Zealand</td>\n",
              "      <td>Household</td>\n",
              "      <td>Offline</td>\n",
              "      <td>C</td>\n",
              "      <td>4/3/2015</td>\n",
              "      <td>217984473</td>\n",
              "      <td>4/20/2015</td>\n",
              "      <td>5305</td>\n",
              "      <td>668.27</td>\n",
              "      <td>502.54</td>\n",
              "      <td>3545172.35</td>\n",
              "      <td>2665974.70</td>\n",
              "      <td>879197.65</td>\n",
              "    </tr>\n",
              "    <tr>\n",
              "      <th>4996</th>\n",
              "      <td>Middle East and North Africa</td>\n",
              "      <td>Azerbaijan</td>\n",
              "      <td>Clothes</td>\n",
              "      <td>Offline</td>\n",
              "      <td>L</td>\n",
              "      <td>8/17/2014</td>\n",
              "      <td>169748055</td>\n",
              "      <td>10/2/2014</td>\n",
              "      <td>1077</td>\n",
              "      <td>109.28</td>\n",
              "      <td>35.84</td>\n",
              "      <td>117694.56</td>\n",
              "      <td>38599.68</td>\n",
              "      <td>79094.88</td>\n",
              "    </tr>\n",
              "    <tr>\n",
              "      <th>4997</th>\n",
              "      <td>Asia</td>\n",
              "      <td>Myanmar</td>\n",
              "      <td>Baby Food</td>\n",
              "      <td>Offline</td>\n",
              "      <td>H</td>\n",
              "      <td>11/23/2016</td>\n",
              "      <td>226939189</td>\n",
              "      <td>12/10/2016</td>\n",
              "      <td>5204</td>\n",
              "      <td>255.28</td>\n",
              "      <td>159.42</td>\n",
              "      <td>1328477.12</td>\n",
              "      <td>829621.68</td>\n",
              "      <td>498855.44</td>\n",
              "    </tr>\n",
              "    <tr>\n",
              "      <th>4998</th>\n",
              "      <td>Europe</td>\n",
              "      <td>Finland</td>\n",
              "      <td>Clothes</td>\n",
              "      <td>Online</td>\n",
              "      <td>L</td>\n",
              "      <td>4/22/2014</td>\n",
              "      <td>906794202</td>\n",
              "      <td>5/11/2014</td>\n",
              "      <td>9410</td>\n",
              "      <td>109.28</td>\n",
              "      <td>35.84</td>\n",
              "      <td>1028324.80</td>\n",
              "      <td>337254.40</td>\n",
              "      <td>691070.40</td>\n",
              "    </tr>\n",
              "    <tr>\n",
              "      <th>4999</th>\n",
              "      <td>Sub-Saharan Africa</td>\n",
              "      <td>Tanzania</td>\n",
              "      <td>Vegetables</td>\n",
              "      <td>Online</td>\n",
              "      <td>L</td>\n",
              "      <td>7/8/2011</td>\n",
              "      <td>996861922</td>\n",
              "      <td>8/7/2011</td>\n",
              "      <td>2450</td>\n",
              "      <td>154.06</td>\n",
              "      <td>90.93</td>\n",
              "      <td>377447.00</td>\n",
              "      <td>222778.50</td>\n",
              "      <td>154668.50</td>\n",
              "    </tr>\n",
              "  </tbody>\n",
              "</table>\n",
              "<p>5000 rows × 14 columns</p>\n",
              "</div>"
            ],
            "text/plain": [
              "                                 Region  ... Total Profit\n",
              "0     Central America and the Caribbean  ...     52914.72\n",
              "1     Central America and the Caribbean  ...    119488.38\n",
              "2                                Europe  ...     74823.48\n",
              "3                                  Asia  ...    798727.44\n",
              "4                                  Asia  ...    415865.88\n",
              "...                                 ...  ...          ...\n",
              "4995              Australia and Oceania  ...    879197.65\n",
              "4996       Middle East and North Africa  ...     79094.88\n",
              "4997                               Asia  ...    498855.44\n",
              "4998                             Europe  ...    691070.40\n",
              "4999                 Sub-Saharan Africa  ...    154668.50\n",
              "\n",
              "[5000 rows x 14 columns]"
            ]
          },
          "metadata": {
            "tags": []
          },
          "execution_count": 31
        }
      ]
    },
    {
      "cell_type": "code",
      "metadata": {
        "colab": {
          "base_uri": "https://localhost:8080/"
        },
        "id": "szrsM-zzUY15",
        "outputId": "e8bcf69d-e593-4213-e36b-48d843a7ea9f"
      },
      "source": [
        "type(df['Item Type'])"
      ],
      "execution_count": null,
      "outputs": [
        {
          "output_type": "execute_result",
          "data": {
            "text/plain": [
              "pandas.core.series.Series"
            ]
          },
          "metadata": {
            "tags": []
          },
          "execution_count": 34
        }
      ]
    },
    {
      "cell_type": "code",
      "metadata": {
        "id": "f9fxCCaKUctz"
      },
      "source": [
        ""
      ],
      "execution_count": null,
      "outputs": []
    }
  ]
}