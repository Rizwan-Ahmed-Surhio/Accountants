{
  "nbformat": 4,
  "nbformat_minor": 0,
  "metadata": {
    "colab": {
      "name": "15_ControlFlow - ConditionalStatements.ipynb",
      "provenance": [],
      "collapsed_sections": [],
      "authorship_tag": "ABX9TyMvzta7Ef0uGRr4MZD8Qyub",
      "include_colab_link": true
    },
    "kernelspec": {
      "name": "python3",
      "display_name": "Python 3"
    },
    "language_info": {
      "name": "python"
    }
  },
  "cells": [
    {
      "cell_type": "markdown",
      "metadata": {
        "id": "view-in-github",
        "colab_type": "text"
      },
      "source": [
        "<a href=\"https://colab.research.google.com/github/Rizwan-Ahmed-Surhio/Accountants/blob/main/15_ControlFlow_ConditionalStatements.ipynb\" target=\"_parent\"><img src=\"https://colab.research.google.com/assets/colab-badge.svg\" alt=\"Open In Colab\"/></a>"
      ]
    },
    {
      "cell_type": "markdown",
      "metadata": {
        "id": "QUSEJjaKqf6I"
      },
      "source": [
        "# Conditional Statements "
      ]
    },
    {
      "cell_type": "markdown",
      "metadata": {
        "id": "1HOXP-UfSvcq"
      },
      "source": [
        "### If Statement\n"
      ]
    },
    {
      "cell_type": "code",
      "metadata": {
        "id": "_Ziq-VCkSugS"
      },
      "source": [
        "petty_cash_account = 99\n",
        "bank_balance = 5000\n",
        "\n",
        "if petty_cash_account < 100:\n",
        "  petty_cash_account += 901\n",
        "  bank_balance -= 901"
      ],
      "execution_count": 1,
      "outputs": []
    },
    {
      "cell_type": "code",
      "metadata": {
        "colab": {
          "base_uri": "https://localhost:8080/"
        },
        "id": "iz7hnDHLToww",
        "outputId": "dd17ab5e-cc40-4e60-d53e-e45cce6514f4"
      },
      "source": [
        "print(petty_cash_account,bank_balance)"
      ],
      "execution_count": 2,
      "outputs": [
        {
          "output_type": "stream",
          "text": [
            "1000 4099\n"
          ],
          "name": "stdout"
        }
      ]
    },
    {
      "cell_type": "code",
      "metadata": {
        "id": "CbqsU80XPVxd"
      },
      "source": [
        "petty_cash_account = 150\n",
        "bank_balance = 5000\n",
        "\n",
        "if petty_cash_account < 100:\n",
        "  petty_cash_account += 901\n",
        "  bank_balance -= 901"
      ],
      "execution_count": 3,
      "outputs": []
    },
    {
      "cell_type": "code",
      "metadata": {
        "colab": {
          "base_uri": "https://localhost:8080/"
        },
        "id": "lEKQoLPTdbYk",
        "outputId": "12b5e590-ca22-4279-86eb-c631475de153"
      },
      "source": [
        "print(petty_cash_account,bank_balance)"
      ],
      "execution_count": 4,
      "outputs": [
        {
          "output_type": "stream",
          "text": [
            "150 5000\n"
          ],
          "name": "stdout"
        }
      ]
    },
    {
      "cell_type": "code",
      "metadata": {
        "id": "47mLpEppQLoF",
        "colab": {
          "base_uri": "https://localhost:8080/",
          "height": 135
        },
        "outputId": "4983eeae-ecc9-4196-eee6-7be019dc21cb"
      },
      "source": [
        "petty_cash_account = 150\n",
        "bank_balance = 5000\n",
        "\n",
        "if petty_cash_account < 100:\n",
        "petty_cash_account += 901\n",
        "bank_balance -= 901"
      ],
      "execution_count": 5,
      "outputs": [
        {
          "output_type": "error",
          "ename": "IndentationError",
          "evalue": "ignored",
          "traceback": [
            "\u001b[0;36m  File \u001b[0;32m\"<ipython-input-5-d29ca799b813>\"\u001b[0;36m, line \u001b[0;32m5\u001b[0m\n\u001b[0;31m    petty_cash_account += 901\u001b[0m\n\u001b[0m                     ^\u001b[0m\n\u001b[0;31mIndentationError\u001b[0m\u001b[0;31m:\u001b[0m expected an indented block\n"
          ]
        }
      ]
    },
    {
      "cell_type": "code",
      "metadata": {
        "id": "gqF0XZDjPX0r"
      },
      "source": [
        "print(petty_cash_account,bank_balance)"
      ],
      "execution_count": null,
      "outputs": []
    },
    {
      "cell_type": "markdown",
      "metadata": {
        "id": "BsRXm3lBqPmd"
      },
      "source": [
        "### If Else Statement\n"
      ]
    },
    {
      "cell_type": "code",
      "metadata": {
        "id": "flDjCg1cUI7L"
      },
      "source": [
        "# Stock purchase decision \n",
        "expected_price_growth = 15\n",
        "\n",
        "\n",
        "if expected_price_growth > 20:\n",
        "  print(\"Buy this stock\")\n",
        "else:\n",
        "  print(\"Don't buy this stock\") \n",
        "\n"
      ],
      "execution_count": null,
      "outputs": []
    },
    {
      "cell_type": "markdown",
      "metadata": {
        "id": "AtfjFSqsqp9z"
      },
      "source": [
        "### If Elif Else Statement"
      ]
    },
    {
      "cell_type": "code",
      "metadata": {
        "id": "kO7IfZcSq1KU"
      },
      "source": [
        "# Stock purchase decision \n",
        "expected_price_growth = 21\n",
        "expected_div_yield = 10\n",
        "\n",
        "\n",
        "if expected_price_growth > 20:\n",
        "  print(\"Buy this stock\")\n",
        "elif expected_div_yield > 8:\n",
        "  print(\"Dividend yield is good, Buy\")\n",
        "else:\n",
        "  print(\"Don't buy this stock\") \n"
      ],
      "execution_count": null,
      "outputs": []
    },
    {
      "cell_type": "markdown",
      "metadata": {
        "id": "qg5_SKYYqznH"
      },
      "source": [
        "## Other Type of Conditional Statements (loc, numpy.where, apply etc.)"
      ]
    },
    {
      "cell_type": "code",
      "metadata": {
        "id": "uXM-WXfjZoTi"
      },
      "source": [
        "import pandas"
      ],
      "execution_count": 7,
      "outputs": []
    },
    {
      "cell_type": "code",
      "metadata": {
        "id": "QACIwupeUJnQ"
      },
      "source": [
        "url = 'https://raw.githubusercontent.com/Rizwan-Ahmed-Surhio/Accountants/main/stock_data.csv'\n",
        "df = pandas.read_csv(url)"
      ],
      "execution_count": 8,
      "outputs": []
    },
    {
      "cell_type": "code",
      "metadata": {
        "id": "3Ci7islHVJcH"
      },
      "source": [
        "df"
      ],
      "execution_count": null,
      "outputs": []
    },
    {
      "cell_type": "code",
      "metadata": {
        "id": "fMxBK3W6iSSl"
      },
      "source": [
        "buying_stocks = df.loc[(df['Expected Price Growth %'] > 30) &(df['Price'] < 100), ['Symbol','Expected Price Growth %','Price']]"
      ],
      "execution_count": null,
      "outputs": []
    },
    {
      "cell_type": "code",
      "metadata": {
        "id": "_H_ex4aPijA0"
      },
      "source": [
        "buying_stocks"
      ],
      "execution_count": null,
      "outputs": []
    }
  ]
}