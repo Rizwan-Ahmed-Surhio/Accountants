{
  "nbformat": 4,
  "nbformat_minor": 0,
  "metadata": {
    "colab": {
      "name": "2_Data Types.ipynb",
      "provenance": [],
      "collapsed_sections": [],
      "authorship_tag": "ABX9TyNl4tlSFElo8Aix2EgGtLjZ",
      "include_colab_link": true
    },
    "kernelspec": {
      "name": "python3",
      "display_name": "Python 3"
    }
  },
  "cells": [
    {
      "cell_type": "markdown",
      "metadata": {
        "id": "view-in-github",
        "colab_type": "text"
      },
      "source": [
        "<a href=\"https://colab.research.google.com/github/Rizwan-Ahmed-Surhio/Accountants/blob/main/2_Data_Types.ipynb\" target=\"_parent\"><img src=\"https://colab.research.google.com/assets/colab-badge.svg\" alt=\"Open In Colab\"/></a>"
      ]
    },
    {
      "cell_type": "markdown",
      "metadata": {
        "id": "OX8kUe4-Yz4n"
      },
      "source": [
        "## Data Type - String"
      ]
    },
    {
      "cell_type": "code",
      "metadata": {
        "id": "6kB5CQb4XrDQ"
      },
      "source": [
        "numbers = [2,2]\n",
        "sum(numbers)"
      ],
      "execution_count": null,
      "outputs": []
    },
    {
      "cell_type": "code",
      "metadata": {
        "id": "k2dsCoKmYenC"
      },
      "source": [
        "sentence = [\"My Name is Rizwan\", \"Your Name is Simth\" ]\n",
        "sum(sentence)"
      ],
      "execution_count": null,
      "outputs": []
    },
    {
      "cell_type": "code",
      "metadata": {
        "id": "PFREiZ_QU_2g"
      },
      "source": [
        "Python is a great programming language"
      ],
      "execution_count": null,
      "outputs": []
    },
    {
      "cell_type": "code",
      "metadata": {
        "id": "PqqmlObUVJAh"
      },
      "source": [
        "'Python is a great programming language'"
      ],
      "execution_count": null,
      "outputs": []
    },
    {
      "cell_type": "code",
      "metadata": {
        "id": "vxdwbIJcVElm"
      },
      "source": [
        "print(\"Python is a great programming language\")"
      ],
      "execution_count": null,
      "outputs": []
    },
    {
      "cell_type": "markdown",
      "metadata": {
        "id": "e6Qi_5a0Vbvl"
      },
      "source": [
        "#### I don't like extreme weather."
      ]
    },
    {
      "cell_type": "code",
      "metadata": {
        "id": "IWjxWQPJVgsi"
      },
      "source": [
        "print('I don't like extreme weather')"
      ],
      "execution_count": null,
      "outputs": []
    },
    {
      "cell_type": "code",
      "metadata": {
        "id": "T8ypJfHZV-wF"
      },
      "source": [
        "print(\"I don't like extreme weather\")"
      ],
      "execution_count": null,
      "outputs": []
    },
    {
      "cell_type": "code",
      "metadata": {
        "id": "gsn5gQL7WJ40"
      },
      "source": [
        "print('I don\\'t like extreme weather')"
      ],
      "execution_count": null,
      "outputs": []
    },
    {
      "cell_type": "markdown",
      "metadata": {
        "id": "DGKB5Bzhc2G-"
      },
      "source": [
        "Name: John Smith\n"
      ]
    },
    {
      "cell_type": "code",
      "metadata": {
        "id": "I54CfRa3cdWj"
      },
      "source": [
        "'John' 'Smith'"
      ],
      "execution_count": null,
      "outputs": []
    },
    {
      "cell_type": "code",
      "metadata": {
        "id": "KBAmzFIadHSd"
      },
      "source": [
        "'John ' 'Smith'"
      ],
      "execution_count": null,
      "outputs": []
    },
    {
      "cell_type": "markdown",
      "metadata": {
        "id": "NNLfYvoMdf5U"
      },
      "source": [
        "With Print() - No quotes\n"
      ]
    },
    {
      "cell_type": "code",
      "metadata": {
        "id": "mSzu0CDmdKy1"
      },
      "source": [
        "print('John', 'Smith')"
      ],
      "execution_count": null,
      "outputs": []
    },
    {
      "cell_type": "code",
      "metadata": {
        "id": "H_A1PWK_dQFJ"
      },
      "source": [
        ""
      ],
      "execution_count": null,
      "outputs": []
    }
  ]
}