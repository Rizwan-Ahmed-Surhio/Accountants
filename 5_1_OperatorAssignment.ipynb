{
  "nbformat": 4,
  "nbformat_minor": 0,
  "metadata": {
    "colab": {
      "name": "5_1_OperatorAssignment.ipynb",
      "provenance": [],
      "authorship_tag": "ABX9TyPHTKDcxKVLdfM9JjldhbjH",
      "include_colab_link": true
    },
    "kernelspec": {
      "name": "python3",
      "display_name": "Python 3"
    }
  },
  "cells": [
    {
      "cell_type": "markdown",
      "metadata": {
        "id": "view-in-github",
        "colab_type": "text"
      },
      "source": [
        "<a href=\"https://colab.research.google.com/github/Rizwan-Ahmed-Surhio/Accountants/blob/main/5_1_OperatorAssignment.ipynb\" target=\"_parent\"><img src=\"https://colab.research.google.com/assets/colab-badge.svg\" alt=\"Open In Colab\"/></a>"
      ]
    },
    {
      "cell_type": "markdown",
      "metadata": {
        "id": "DbicD98X9rE1"
      },
      "source": [
        "# Assignment Operators"
      ]
    },
    {
      "cell_type": "code",
      "metadata": {
        "id": "_li-LetMSjbC"
      },
      "source": [
        "x = 16"
      ],
      "execution_count": 1,
      "outputs": []
    },
    {
      "cell_type": "markdown",
      "metadata": {
        "id": "iNgztFom-BAm"
      },
      "source": [
        "#### Year to date sales at the end of last month = 1,000,000\n",
        "#### Current month sales = 200,000"
      ]
    },
    {
      "cell_type": "code",
      "metadata": {
        "id": "P1bjmVWv9m4l"
      },
      "source": [
        "YTD_Sales = 1000000"
      ],
      "execution_count": 2,
      "outputs": []
    },
    {
      "cell_type": "code",
      "metadata": {
        "id": "17RMCiDP-_P5"
      },
      "source": [
        "YTD_Sales = YTD_Sales + 200000"
      ],
      "execution_count": 3,
      "outputs": []
    },
    {
      "cell_type": "code",
      "metadata": {
        "id": "jiIRa9VY_HAp",
        "colab": {
          "base_uri": "https://localhost:8080/"
        },
        "outputId": "a0360db7-e184-433a-8a36-5c068c89a4e3"
      },
      "source": [
        "print(YTD_Sales)"
      ],
      "execution_count": 4,
      "outputs": [
        {
          "output_type": "stream",
          "text": [
            "1200000\n"
          ],
          "name": "stdout"
        }
      ]
    },
    {
      "cell_type": "code",
      "metadata": {
        "id": "zP0YpMy8951F"
      },
      "source": [
        "YTD_Sales += 200000"
      ],
      "execution_count": 5,
      "outputs": []
    },
    {
      "cell_type": "code",
      "metadata": {
        "id": "Kl3JMAPL_Nm0",
        "colab": {
          "base_uri": "https://localhost:8080/"
        },
        "outputId": "29b2bff4-6195-4c8b-ed8d-cce2264b34b3"
      },
      "source": [
        "print(YTD_Sales)"
      ],
      "execution_count": 6,
      "outputs": [
        {
          "output_type": "stream",
          "text": [
            "1400000\n"
          ],
          "name": "stdout"
        }
      ]
    },
    {
      "cell_type": "code",
      "metadata": {
        "id": "XbrorRYp_aF_"
      },
      "source": [
        "YTD_Sales -= 700000"
      ],
      "execution_count": 8,
      "outputs": []
    },
    {
      "cell_type": "code",
      "metadata": {
        "id": "44XHSEzQ_PqD"
      },
      "source": [
        "Sales_Commsion = YTD_Sales * 0.03"
      ],
      "execution_count": null,
      "outputs": []
    },
    {
      "cell_type": "code",
      "metadata": {
        "id": "M7Br59XM_0VB"
      },
      "source": [
        "Sales_Commsion"
      ],
      "execution_count": null,
      "outputs": []
    },
    {
      "cell_type": "code",
      "metadata": {
        "id": "q3YVXJof_5Za"
      },
      "source": [
        ""
      ],
      "execution_count": null,
      "outputs": []
    }
  ]
}